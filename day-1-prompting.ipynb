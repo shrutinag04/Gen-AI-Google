{
 "cells": [
  {
   "cell_type": "markdown",
   "id": "24c5be8f",
   "metadata": {
    "id": "jkxRSYjzA1oX",
    "papermill": {
     "duration": 0.013855,
     "end_time": "2025-03-31T15:51:46.924871",
     "exception": false,
     "start_time": "2025-03-31T15:51:46.911016",
     "status": "completed"
    },
    "tags": []
   },
   "source": [
    "##### Copyright 2025 Google LLC."
   ]
  },
  {
   "cell_type": "code",
   "execution_count": 1,
   "id": "0bc3e952",
   "metadata": {
    "cellView": "form",
    "execution": {
     "iopub.execute_input": "2025-03-31T15:51:46.953525Z",
     "iopub.status.busy": "2025-03-31T15:51:46.953122Z",
     "iopub.status.idle": "2025-03-31T15:51:46.958850Z",
     "shell.execute_reply": "2025-03-31T15:51:46.957915Z"
    },
    "id": "5u5OZ2ShA3BA",
    "jupyter": {
     "source_hidden": true
    },
    "papermill": {
     "duration": 0.023732,
     "end_time": "2025-03-31T15:51:46.961187",
     "exception": false,
     "start_time": "2025-03-31T15:51:46.937455",
     "status": "completed"
    },
    "tags": []
   },
   "outputs": [],
   "source": [
    "# @title Licensed under the Apache License, Version 2.0 (the \"License\");\n",
    "# you may not use this file except in compliance with the License.\n",
    "# You may obtain a copy of the License at\n",
    "#\n",
    "# https://www.apache.org/licenses/LICENSE-2.0\n",
    "#\n",
    "# Unless required by applicable law or agreed to in writing, software\n",
    "# distributed under the License is distributed on an \"AS IS\" BASIS,\n",
    "# WITHOUT WARRANTIES OR CONDITIONS OF ANY KIND, either express or implied.\n",
    "# See the License for the specific language governing permissions and\n",
    "# limitations under the License."
   ]
  },
  {
   "cell_type": "markdown",
   "id": "03eaad4f",
   "metadata": {
    "id": "csNPnkuCobmG",
    "papermill": {
     "duration": 0.012444,
     "end_time": "2025-03-31T15:51:46.986126",
     "exception": false,
     "start_time": "2025-03-31T15:51:46.973682",
     "status": "completed"
    },
    "tags": []
   },
   "source": [
    "# Day 1 - Prompting\n",
    "\n",
    "Welcome to the Kaggle 5-day Generative AI course!\n",
    "\n",
    "This notebook will show you how to get started with the Gemini API and walk you through some of the example prompts and techniques that you can also read about in the Prompting whitepaper. You don't need to read the whitepaper to use this notebook, but the papers will give you some theoretical context and background to complement this interactive notebook.\n",
    "\n",
    "\n",
    "## Before you begin\n",
    "\n",
    "In this notebook, you'll start exploring prompting using the Python SDK and AI Studio. For some inspiration, you might enjoy exploring some apps that have been built using the Gemini family of models. Here are a few that we like, and we think you will too.\n",
    "\n",
    "* [TextFX](https://textfx.withgoogle.com/) is a suite of AI-powered tools for rappers, made in collaboration with Lupe Fiasco,\n",
    "* [SQL Talk](https://sql-talk-r5gdynozbq-uc.a.run.app/) shows how you can talk directly to a database using the Gemini API,\n",
    "* [NotebookLM](https://notebooklm.google/) uses Gemini models to build your own personal AI research assistant.\n",
    "\n",
    "\n",
    "## For help\n",
    "\n",
    "**Common issues are covered in the [FAQ and troubleshooting guide](https://www.kaggle.com/code/markishere/day-0-troubleshooting-and-faqs).**\n",
    "\n",
    "## New for Gemini 2.0!\n",
    "\n",
    "This course material was first launched in November 2024. The AI and LLM space is moving incredibly fast, so we have made some updates to use the latest models and capabilities.\n",
    "\n",
    "* These codelabs have been updated to use the Gemini 2.0 family of models.\n",
    "* The Python SDK has been updated from `google-generativeai` to the new, unified [`google-genai`](https://pypi.org/project/google-genai) SDK.\n",
    "  * This new SDK works with both the developer Gemini API as well as Google Cloud Vertex AI, and switching is [as simple as changing some fields](https://pypi.org/project/google-genai/#:~:text=.Client%28%29-,API%20Selection,-By%20default%2C%20the).\n",
    "* New model capabilities have been added to the relevant codelabs, such as \"thinking mode\" in this lab.\n",
    "* Day 1 includes a new [Evaluation codelab](https://www.kaggle.com/code/markishere/day-1-evaluation-and-structured-output)."
   ]
  },
  {
   "attachments": {
    "d8299597-f771-4195-ac94-1d6f658ef2bd.png": {
     "image/png": "[encoded data removed]"
    },
    "ed25e346-2e15-4ab0-bc22-503eb1845e66.png": {
     "image/png": "[encoded data removed]"
    }
   },
   "cell_type": "markdown",
   "id": "40805d12",
   "metadata": {
    "id": "f00ea7c99e44",
    "papermill": {
     "duration": 0.015161,
     "end_time": "2025-03-31T15:51:47.015224",
     "exception": false,
     "start_time": "2025-03-31T15:51:47.000063",
     "status": "completed"
    },
    "tags": []
   },
   "source": [
    "## Get started with Kaggle notebooks\n",
    "\n",
    "If this is your first time using a Kaggle notebook, welcome! You can read about how to use Kaggle notebooks [in the docs](https://www.kaggle.com/docs/notebooks).\n",
    "\n",
    "First, you will need to phone verify your account at kaggle.com/settings.\n",
    "\n",
    "![](https://storage.googleapis.com/kaggle-media/Images/5dgai_0.png)"
   ]
  },
  {
   "cell_type": "markdown",
   "id": "5a7d1dc7",
   "metadata": {
    "papermill": {
     "duration": 0.012946,
     "end_time": "2025-03-31T15:51:47.042968",
     "exception": false,
     "start_time": "2025-03-31T15:51:47.030022",
     "status": "completed"
    },
    "tags": []
   },
   "source": [
    "To run this notebook, as well as the others in this course, you will need to make a copy, or fork, the notebook. Look for the `Copy and Edit` button in the top-right, and **click it** to make an editable, private copy of the notebook. It should look like this one:\n",
    "\n",
    "![Copy and Edit button](https://storage.googleapis.com/kaggle-media/Images/5gdai_sc_1.png)\n",
    "\n",
    "Your copy will now have a ▶️ **Run** button next to each code cell that you can press to execute that cell. These notebooks are expected to be run in order from top-to-bottom, but you are encouraged to add new cells, run your own code and explore. If you get stuck, you can try the `Factory reset` option in the `Run` menu, or head back to the original notebook and make a fresh copy.\n",
    "\n",
    "![Run cell button](https://storage.googleapis.com/kaggle-media/Images/5gdai_sc_2.png)\n",
    "\n",
    "### Problems?\n",
    "\n",
    "If you have any problems, head over to the [Kaggle Discord](https://discord.com/invite/kaggle), find the [`#5dgai-q-and-a` channel](https://discord.com/channels/1101210829807956100/1303438695143178251) and ask for help."
   ]
  },
  {
   "cell_type": "markdown",
   "id": "f44151c5",
   "metadata": {
    "id": "ExkOXcPxtTb5",
    "papermill": {
     "duration": 0.012189,
     "end_time": "2025-03-31T15:51:47.067771",
     "exception": false,
     "start_time": "2025-03-31T15:51:47.055582",
     "status": "completed"
    },
    "tags": []
   },
   "source": [
    "## Get started with the Gemini API\n",
    "\n",
    "All of the exercises in this notebook will use the [Gemini API](https://ai.google.dev/gemini-api/) by way of the [Python SDK](https://pypi.org/project/google-genai/). Each of these prompts can be accessed directly in [Google AI Studio](https://aistudio.google.com/) too, so if you would rather use a web interface and skip the code for this activity, look for the <img src=\"https://ai.google.dev/site-assets/images/marketing/home/icon-ais.png\" style=\"height: 24px\" height=24/> AI Studio link on each prompt."
   ]
  },
  {
   "cell_type": "markdown",
   "id": "2c325f5f",
   "metadata": {
    "papermill": {
     "duration": 0.012241,
     "end_time": "2025-03-31T15:51:47.092398",
     "exception": false,
     "start_time": "2025-03-31T15:51:47.080157",
     "status": "completed"
    },
    "tags": []
   },
   "source": [
    "Next, you will need to add your API key to your Kaggle Notebook as a Kaggle User Secret.\n",
    "\n",
    "![](https://storage.googleapis.com/kaggle-media/Images/5dgai_1.png)\n",
    "![](https://storage.googleapis.com/kaggle-media/Images/5dgai_2.png)\n",
    "![](https://storage.googleapis.com/kaggle-media/Images/5dgai_3.png)\n",
    "![](https://storage.googleapis.com/kaggle-media/Images/5dgai_4.png)"
   ]
  },
  {
   "cell_type": "markdown",
   "id": "7a9f3f10",
   "metadata": {
    "id": "UAjUV3BsvFXQ",
    "papermill": {
     "duration": 0.012616,
     "end_time": "2025-03-31T15:51:47.117924",
     "exception": false,
     "start_time": "2025-03-31T15:51:47.105308",
     "status": "completed"
    },
    "tags": []
   },
   "source": [
    "### Install the SDK"
   ]
  },
  {
   "cell_type": "code",
   "execution_count": 2,
   "id": "10667218",
   "metadata": {
    "execution": {
     "iopub.execute_input": "2025-03-31T15:51:47.145041Z",
     "iopub.status.busy": "2025-03-31T15:51:47.144667Z",
     "iopub.status.idle": "2025-03-31T15:52:07.707929Z",
     "shell.execute_reply": "2025-03-31T15:52:07.705572Z"
    },
    "id": "NzwzJFU9LqkJ",
    "papermill": {
     "duration": 20.580527,
     "end_time": "2025-03-31T15:52:07.710868",
     "exception": false,
     "start_time": "2025-03-31T15:51:47.130341",
     "status": "completed"
    },
    "tags": []
   },
   "outputs": [],
   "source": [
    "!pip uninstall -qy jupyterlab  # Remove unused packages from Kaggle's base image that conflict\n",
    "!pip install -U -q \"google-genai==1.7.0\""
   ]
  },
  {
   "cell_type": "markdown",
   "id": "769fae8a",
   "metadata": {
    "papermill": {
     "duration": 0.014135,
     "end_time": "2025-03-31T15:52:07.737496",
     "exception": false,
     "start_time": "2025-03-31T15:52:07.723361",
     "status": "completed"
    },
    "tags": []
   },
   "source": [
    "Import the SDK and some helpers for rendering the output."
   ]
  },
  {
   "cell_type": "code",
   "execution_count": 3,
   "id": "4123b364",
   "metadata": {
    "execution": {
     "iopub.execute_input": "2025-03-31T15:52:07.769898Z",
     "iopub.status.busy": "2025-03-31T15:52:07.769459Z",
     "iopub.status.idle": "2025-03-31T15:52:09.310404Z",
     "shell.execute_reply": "2025-03-31T15:52:09.308869Z"
    },
    "id": "5DwxYIRavMST",
    "papermill": {
     "duration": 1.561977,
     "end_time": "2025-03-31T15:52:09.313213",
     "exception": false,
     "start_time": "2025-03-31T15:52:07.751236",
     "status": "completed"
    },
    "tags": []
   },
   "outputs": [],
   "source": [
    "from google import genai\n",
    "from google.genai import types\n",
    "\n",
    "from IPython.display import HTML, Markdown, display"
   ]
  },
  {
   "cell_type": "markdown",
   "id": "a5bb1eda",
   "metadata": {
    "papermill": {
     "duration": 0.012618,
     "end_time": "2025-03-31T15:52:09.339592",
     "exception": false,
     "start_time": "2025-03-31T15:52:09.326974",
     "status": "completed"
    },
    "tags": []
   },
   "source": [
    "Set up a retry helper. This allows you to \"Run all\" without worrying about per-minute quota."
   ]
  },
  {
   "cell_type": "code",
   "execution_count": 4,
   "id": "70355fdd",
   "metadata": {
    "execution": {
     "iopub.execute_input": "2025-03-31T15:52:09.370416Z",
     "iopub.status.busy": "2025-03-31T15:52:09.369902Z",
     "iopub.status.idle": "2025-03-31T15:52:09.572672Z",
     "shell.execute_reply": "2025-03-31T15:52:09.571855Z"
    },
    "papermill": {
     "duration": 0.222192,
     "end_time": "2025-03-31T15:52:09.575048",
     "exception": false,
     "start_time": "2025-03-31T15:52:09.352856",
     "status": "completed"
    },
    "tags": []
   },
   "outputs": [],
   "source": [
    "from google.api_core import retry\n",
    "\n",
    "\n",
    "is_retriable = lambda e: (isinstance(e, genai.errors.APIError) and e.code in {429, 503})\n",
    "\n",
    "genai.models.Models.generate_content = retry.Retry(\n",
    "    predicate=is_retriable)(genai.models.Models.generate_content)"
   ]
  },
  {
   "cell_type": "markdown",
   "id": "62bbaad9",
   "metadata": {
    "id": "DNEt2BCOvOJ1",
    "papermill": {
     "duration": 0.012184,
     "end_time": "2025-03-31T15:52:09.600016",
     "exception": false,
     "start_time": "2025-03-31T15:52:09.587832",
     "status": "completed"
    },
    "tags": []
   },
   "source": [
    "### Set up your API key\n",
    "\n",
    "To run the following cell, your API key must be stored it in a [Kaggle secret](https://www.kaggle.com/discussions/product-feedback/114053) named `GOOGLE_API_KEY`.\n",
    "\n",
    "If you don't already have an API key, you can grab one from [AI Studio](https://aistudio.google.com/app/apikey). You can find [detailed instructions in the docs](https://ai.google.dev/gemini-api/docs/api-key).\n",
    "\n",
    "To make the key available through Kaggle secrets, choose `Secrets` from the `Add-ons` menu and follow the instructions to add your key or enable it for this notebook."
   ]
  },
  {
   "cell_type": "code",
   "execution_count": 5,
   "id": "940bf3d3",
   "metadata": {
    "execution": {
     "iopub.execute_input": "2025-03-31T15:52:09.626879Z",
     "iopub.status.busy": "2025-03-31T15:52:09.626306Z",
     "iopub.status.idle": "2025-03-31T15:52:09.719779Z",
     "shell.execute_reply": "2025-03-31T15:52:09.718772Z"
    },
    "id": "SHl0bkPCvayd",
    "papermill": {
     "duration": 0.109951,
     "end_time": "2025-03-31T15:52:09.722381",
     "exception": false,
     "start_time": "2025-03-31T15:52:09.612430",
     "status": "completed"
    },
    "tags": []
   },
   "outputs": [],
   "source": [
    "from kaggle_secrets import UserSecretsClient\n",
    "\n",
    "GOOGLE_API_KEY = UserSecretsClient().get_secret(\"GOOGLE_API_KEY\")"
   ]
  },
  {
   "attachments": {
    "d2be9aab-2527-48af-b6cf-1f06cdd7c3a7.png": {
     "image/png": "[encoded data removed]"
    }
   },
   "cell_type": "markdown",
   "id": "bc9f3df2",
   "metadata": {
    "id": "4e720472fd86",
    "papermill": {
     "duration": 0.012578,
     "end_time": "2025-03-31T15:52:09.747610",
     "exception": false,
     "start_time": "2025-03-31T15:52:09.735032",
     "status": "completed"
    },
    "tags": []
   },
   "source": [
    "If you received an error response along the lines of `No user secrets exist for kernel id ...`, then you need to add your API key via `Add-ons`, `Secrets` **and** enable it.\n",
    "\n",
    "![Screenshot of the checkbox to enable GOOGLE_API_KEY secret](https://storage.googleapis.com/kaggle-media/Images/5gdai_sc_3.png)"
   ]
  },
  {
   "cell_type": "markdown",
   "id": "257d43c5",
   "metadata": {
    "id": "H_YXCYIKvyZJ",
    "papermill": {
     "duration": 0.013083,
     "end_time": "2025-03-31T15:52:09.773509",
     "exception": false,
     "start_time": "2025-03-31T15:52:09.760426",
     "status": "completed"
    },
    "tags": []
   },
   "source": [
    "### Run your first prompt\n",
    "\n",
    "In this step, you will test that your API key is set up correctly by making a request.\n",
    "\n",
    "The Python SDK uses a [`Client` object](https://googleapis.github.io/python-genai/genai.html#genai.client.Client) to make requests to the API. The client lets you control which back-end to use (between the Gemini API and Vertex AI) and handles authentication (the API key).\n",
    "\n",
    "The `gemini-2.0-flash` model has been selected here.\n",
    "\n",
    "**Note**: If you see a `TransportError` on this step, you may need to **🔁 Factory reset** the notebook one time."
   ]
  },
  {
   "cell_type": "code",
   "execution_count": 6,
   "id": "33249b0a",
   "metadata": {
    "execution": {
     "iopub.execute_input": "2025-03-31T15:52:09.800597Z",
     "iopub.status.busy": "2025-03-31T15:52:09.800195Z",
     "iopub.status.idle": "2025-03-31T15:52:12.123994Z",
     "shell.execute_reply": "2025-03-31T15:52:12.122501Z"
    },
    "id": "BV1o0PmcvyJF",
    "papermill": {
     "duration": 2.341127,
     "end_time": "2025-03-31T15:52:12.127059",
     "exception": false,
     "start_time": "2025-03-31T15:52:09.785932",
     "status": "completed"
    },
    "tags": []
   },
   "outputs": [
    {
     "name": "stdout",
     "output_type": "stream",
     "text": [
      "Imagine you have a really smart robot toy.  This robot toy can learn to do things, not just the things you programmed it to do. That's kind of what AI is!\n",
      "\n",
      "Instead of having someone tell it exactly what to do step-by-step, AI learns from looking at lots and lots of examples.\n",
      "\n",
      "For example, let's say you want the robot to learn how to tell the difference between a picture of a cat and a picture of a dog.  You show it thousands of pictures of cats and dogs and tell it which is which.\n",
      "\n",
      "At first, the robot will get it wrong a lot.  But, with each picture it sees, it learns little clues.  Maybe it learns that cats often have pointy ears and dogs often have floppy ears.  It uses these clues to guess what each new picture is.\n",
      "\n",
      "The more pictures you show it, the better it gets at guessing!  Eventually, it becomes really good at telling cats and dogs apart, even pictures it's never seen before.\n",
      "\n",
      "That's AI!  It's about teaching computers or robots to learn things, solve problems, and make decisions like people do, but without being told exactly what to do every single time.\n",
      "\n",
      "Think of it like training a puppy! You don't tell the puppy EVERY single move, you show it what you want and reward it when it does it right. AI is similar!\n",
      "\n"
     ]
    }
   ],
   "source": [
    "client = genai.Client(api_key=GOOGLE_API_KEY)\n",
    "\n",
    "response = client.models.generate_content(\n",
    "    model=\"gemini-2.0-flash\",\n",
    "    contents=\"Explain AI to me like I'm a kid.\")\n",
    "\n",
    "print(response.text)"
   ]
  },
  {
   "cell_type": "markdown",
   "id": "1556da5a",
   "metadata": {
    "id": "f60ed9d8ae41",
    "papermill": {
     "duration": 0.013608,
     "end_time": "2025-03-31T15:52:12.154514",
     "exception": false,
     "start_time": "2025-03-31T15:52:12.140906",
     "status": "completed"
    },
    "tags": []
   },
   "source": [
    "The response often comes back in markdown format, which you can render directly in this notebook."
   ]
  },
  {
   "cell_type": "code",
   "execution_count": 7,
   "id": "6c2a4ffb",
   "metadata": {
    "execution": {
     "iopub.execute_input": "2025-03-31T15:52:12.181753Z",
     "iopub.status.busy": "2025-03-31T15:52:12.181339Z",
     "iopub.status.idle": "2025-03-31T15:52:12.189895Z",
     "shell.execute_reply": "2025-03-31T15:52:12.188569Z"
    },
    "id": "c933e5e460a5",
    "papermill": {
     "duration": 0.024988,
     "end_time": "2025-03-31T15:52:12.192077",
     "exception": false,
     "start_time": "2025-03-31T15:52:12.167089",
     "status": "completed"
    },
    "tags": []
   },
   "outputs": [
    {
     "data": {
      "text/markdown": [
       "Imagine you have a really smart robot toy.  This robot toy can learn to do things, not just the things you programmed it to do. That's kind of what AI is!\n",
       "\n",
       "Instead of having someone tell it exactly what to do step-by-step, AI learns from looking at lots and lots of examples.\n",
       "\n",
       "For example, let's say you want the robot to learn how to tell the difference between a picture of a cat and a picture of a dog.  You show it thousands of pictures of cats and dogs and tell it which is which.\n",
       "\n",
       "At first, the robot will get it wrong a lot.  But, with each picture it sees, it learns little clues.  Maybe it learns that cats often have pointy ears and dogs often have floppy ears.  It uses these clues to guess what each new picture is.\n",
       "\n",
       "The more pictures you show it, the better it gets at guessing!  Eventually, it becomes really good at telling cats and dogs apart, even pictures it's never seen before.\n",
       "\n",
       "That's AI!  It's about teaching computers or robots to learn things, solve problems, and make decisions like people do, but without being told exactly what to do every single time.\n",
       "\n",
       "Think of it like training a puppy! You don't tell the puppy EVERY single move, you show it what you want and reward it when it does it right. AI is similar!\n"
      ],
      "text/plain": [
       "<IPython.core.display.Markdown object>"
      ]
     },
     "execution_count": 7,
     "metadata": {},
     "output_type": "execute_result"
    }
   ],
   "source": [
    "Markdown(response.text)"
   ]
  },
  {
   "cell_type": "markdown",
   "id": "b535e412",
   "metadata": {
    "id": "byx0pT9ZMW2Q",
    "papermill": {
     "duration": 0.012487,
     "end_time": "2025-03-31T15:52:12.217597",
     "exception": false,
     "start_time": "2025-03-31T15:52:12.205110",
     "status": "completed"
    },
    "tags": []
   },
   "source": [
    "### Start a chat\n",
    "\n",
    "The previous example uses a single-turn, text-in/text-out structure, but you can also set up a multi-turn chat structure too."
   ]
  },
  {
   "cell_type": "code",
   "execution_count": 8,
   "id": "cb0cf242",
   "metadata": {
    "execution": {
     "iopub.execute_input": "2025-03-31T15:52:12.245847Z",
     "iopub.status.busy": "2025-03-31T15:52:12.245385Z",
     "iopub.status.idle": "2025-03-31T15:52:12.697878Z",
     "shell.execute_reply": "2025-03-31T15:52:12.696568Z"
    },
    "id": "lV_S5ZL5MidD",
    "papermill": {
     "duration": 0.469542,
     "end_time": "2025-03-31T15:52:12.700155",
     "exception": false,
     "start_time": "2025-03-31T15:52:12.230613",
     "status": "completed"
    },
    "tags": []
   },
   "outputs": [
    {
     "name": "stdout",
     "output_type": "stream",
     "text": [
      "Nice to meet you, Zlork! It's a unique and interesting name. How can I help you today?\n",
      "\n"
     ]
    }
   ],
   "source": [
    "chat = client.chats.create(model='gemini-2.0-flash', history=[])\n",
    "response = chat.send_message('Hello! My name is Zlork.')\n",
    "print(response.text)"
   ]
  },
  {
   "cell_type": "code",
   "execution_count": 9,
   "id": "0a5bd0c3",
   "metadata": {
    "execution": {
     "iopub.execute_input": "2025-03-31T15:52:12.728543Z",
     "iopub.status.busy": "2025-03-31T15:52:12.728170Z",
     "iopub.status.idle": "2025-03-31T15:52:13.993002Z",
     "shell.execute_reply": "2025-03-31T15:52:13.991660Z"
    },
    "id": "7b0372c3c64a",
    "papermill": {
     "duration": 1.282438,
     "end_time": "2025-03-31T15:52:13.995367",
     "exception": false,
     "start_time": "2025-03-31T15:52:12.712929",
     "status": "completed"
    },
    "tags": []
   },
   "outputs": [
    {
     "name": "stdout",
     "output_type": "stream",
     "text": [
      "Okay, here's an interesting fact about dinosaurs:\n",
      "\n",
      "**Many dinosaurs had feathers, even the ones that weren't directly related to birds.**\n",
      "\n",
      "While we often picture dinosaurs as scaly reptiles, evidence suggests that feathers were much more widespread among them than previously thought. Fossil discoveries in recent years, particularly in China, have revealed feathered dinosaurs belonging to groups not closely related to birds, like some ornithomimids and even some theropods that weren't direct bird ancestors.\n",
      "\n",
      "This suggests that feathers likely evolved for insulation, display, or other functions before they were co-opted for flight. It completely changes our understanding of what many dinosaurs looked like and challenges the long-held image of them as purely scaly beasts.\n",
      "\n"
     ]
    }
   ],
   "source": [
    "response = chat.send_message('Can you tell me something interesting about dinosaurs?')\n",
    "print(response.text)"
   ]
  },
  {
   "cell_type": "markdown",
   "id": "05ab3830",
   "metadata": {
    "papermill": {
     "duration": 0.013273,
     "end_time": "2025-03-31T15:52:14.022166",
     "exception": false,
     "start_time": "2025-03-31T15:52:14.008893",
     "status": "completed"
    },
    "tags": []
   },
   "source": [
    "While you have the `chat` object alive, the conversation state\n",
    "persists. Confirm that by asking if it knows the user's name."
   ]
  },
  {
   "cell_type": "code",
   "execution_count": 10,
   "id": "b4206ec4",
   "metadata": {
    "execution": {
     "iopub.execute_input": "2025-03-31T15:52:14.050420Z",
     "iopub.status.busy": "2025-03-31T15:52:14.050047Z",
     "iopub.status.idle": "2025-03-31T15:52:14.402504Z",
     "shell.execute_reply": "2025-03-31T15:52:14.401235Z"
    },
    "id": "d3f9591392a7",
    "papermill": {
     "duration": 0.369781,
     "end_time": "2025-03-31T15:52:14.404851",
     "exception": false,
     "start_time": "2025-03-31T15:52:14.035070",
     "status": "completed"
    },
    "tags": []
   },
   "outputs": [
    {
     "name": "stdout",
     "output_type": "stream",
     "text": [
      "Yes, your name is Zlork.\n",
      "\n"
     ]
    }
   ],
   "source": [
    "response = chat.send_message('Do you remember what my name is?')\n",
    "print(response.text)"
   ]
  },
  {
   "cell_type": "markdown",
   "id": "240d0610",
   "metadata": {
    "id": "2KAjpr1200sW",
    "papermill": {
     "duration": 0.013505,
     "end_time": "2025-03-31T15:52:14.431924",
     "exception": false,
     "start_time": "2025-03-31T15:52:14.418419",
     "status": "completed"
    },
    "tags": []
   },
   "source": [
    "### Choose a model\n",
    "\n",
    "The Gemini API provides access to a number of models from the Gemini model family. Read about the available models and their capabilities on the [model overview page](https://ai.google.dev/gemini-api/docs/models/gemini).\n",
    "\n",
    "In this step you'll use the API to list all of the available models."
   ]
  },
  {
   "cell_type": "code",
   "execution_count": 11,
   "id": "6cc81379",
   "metadata": {
    "execution": {
     "iopub.execute_input": "2025-03-31T15:52:14.461031Z",
     "iopub.status.busy": "2025-03-31T15:52:14.460604Z",
     "iopub.status.idle": "2025-03-31T15:52:14.513063Z",
     "shell.execute_reply": "2025-03-31T15:52:14.511823Z"
    },
    "id": "uUUZa2uq2jDm",
    "papermill": {
     "duration": 0.069847,
     "end_time": "2025-03-31T15:52:14.515691",
     "exception": false,
     "start_time": "2025-03-31T15:52:14.445844",
     "status": "completed"
    },
    "tags": []
   },
   "outputs": [
    {
     "name": "stdout",
     "output_type": "stream",
     "text": [
      "models/chat-bison-001\n",
      "models/text-bison-001\n",
      "models/embedding-gecko-001\n",
      "models/gemini-1.0-pro-vision-latest\n",
      "models/gemini-pro-vision\n",
      "models/gemini-1.5-pro-latest\n",
      "models/gemini-1.5-pro-001\n",
      "models/gemini-1.5-pro-002\n",
      "models/gemini-1.5-pro\n",
      "models/gemini-1.5-flash-latest\n",
      "models/gemini-1.5-flash-001\n",
      "models/gemini-1.5-flash-001-tuning\n",
      "models/gemini-1.5-flash\n",
      "models/gemini-1.5-flash-002\n",
      "models/gemini-1.5-flash-8b\n",
      "models/gemini-1.5-flash-8b-001\n",
      "models/gemini-1.5-flash-8b-latest\n",
      "models/gemini-1.5-flash-8b-exp-0827\n",
      "models/gemini-1.5-flash-8b-exp-0924\n",
      "models/gemini-2.5-pro-exp-03-25\n",
      "models/gemini-2.0-flash-exp\n",
      "models/gemini-2.0-flash\n",
      "models/gemini-2.0-flash-001\n",
      "models/gemini-2.0-flash-exp-image-generation\n",
      "models/gemini-2.0-flash-lite-001\n",
      "models/gemini-2.0-flash-lite\n",
      "models/gemini-2.0-flash-lite-preview-02-05\n",
      "models/gemini-2.0-flash-lite-preview\n",
      "models/gemini-2.0-pro-exp\n",
      "models/gemini-2.0-pro-exp-02-05\n",
      "models/gemini-exp-1206\n",
      "models/gemini-2.0-flash-thinking-exp-01-21\n",
      "models/gemini-2.0-flash-thinking-exp\n",
      "models/gemini-2.0-flash-thinking-exp-1219\n",
      "models/learnlm-1.5-pro-experimental\n",
      "models/gemma-3-27b-it\n",
      "models/embedding-001\n",
      "models/text-embedding-004\n",
      "models/gemini-embedding-exp-03-07\n",
      "models/gemini-embedding-exp\n",
      "models/aqa\n",
      "models/imagen-3.0-generate-002\n"
     ]
    }
   ],
   "source": [
    "for model in client.models.list():\n",
    "  print(model.name)"
   ]
  },
  {
   "cell_type": "markdown",
   "id": "8d2af295",
   "metadata": {
    "id": "rN49kSI54R1v",
    "papermill": {
     "duration": 0.013211,
     "end_time": "2025-03-31T15:52:14.544161",
     "exception": false,
     "start_time": "2025-03-31T15:52:14.530950",
     "status": "completed"
    },
    "tags": []
   },
   "source": [
    "The [`models.list`](https://ai.google.dev/api/models#method:-models.list) response also returns additional information about the model's capabilities, like the token limits and supported parameters."
   ]
  },
  {
   "cell_type": "code",
   "execution_count": 12,
   "id": "d2cab3d8",
   "metadata": {
    "execution": {
     "iopub.execute_input": "2025-03-31T15:52:14.573506Z",
     "iopub.status.busy": "2025-03-31T15:52:14.573120Z",
     "iopub.status.idle": "2025-03-31T15:52:14.692809Z",
     "shell.execute_reply": "2025-03-31T15:52:14.691431Z"
    },
    "id": "k7JJ1K6j4Rl8",
    "papermill": {
     "duration": 0.13755,
     "end_time": "2025-03-31T15:52:14.695090",
     "exception": false,
     "start_time": "2025-03-31T15:52:14.557540",
     "status": "completed"
    },
    "tags": []
   },
   "outputs": [
    {
     "name": "stdout",
     "output_type": "stream",
     "text": [
      "{'description': 'Gemini 2.0 Flash',\n",
      " 'display_name': 'Gemini 2.0 Flash',\n",
      " 'input_token_limit': 1048576,\n",
      " 'name': 'models/gemini-2.0-flash',\n",
      " 'output_token_limit': 8192,\n",
      " 'supported_actions': ['generateContent', 'countTokens'],\n",
      " 'tuned_model_info': {},\n",
      " 'version': '2.0'}\n"
     ]
    }
   ],
   "source": [
    "from pprint import pprint\n",
    "\n",
    "for model in client.models.list():\n",
    "  if model.name == 'models/gemini-2.0-flash':\n",
    "    pprint(model.to_json_dict())\n",
    "    break"
   ]
  },
  {
   "cell_type": "markdown",
   "id": "6b924815",
   "metadata": {
    "id": "5rU_UBlZdooM",
    "papermill": {
     "duration": 0.01371,
     "end_time": "2025-03-31T15:52:14.722060",
     "exception": false,
     "start_time": "2025-03-31T15:52:14.708350",
     "status": "completed"
    },
    "tags": []
   },
   "source": [
    "## Explore generation parameters\n",
    "\n"
   ]
  },
  {
   "cell_type": "markdown",
   "id": "91021c9f",
   "metadata": {
    "id": "G7NfEizeipbW",
    "papermill": {
     "duration": 0.012879,
     "end_time": "2025-03-31T15:52:14.749377",
     "exception": false,
     "start_time": "2025-03-31T15:52:14.736498",
     "status": "completed"
    },
    "tags": []
   },
   "source": [
    "### Output length\n",
    "\n",
    "When generating text with an LLM, the output length affects cost and performance. Generating more tokens increases computation, leading to higher energy consumption, latency, and cost.\n",
    "\n",
    "To stop the model from generating tokens past a limit, you can specify the `max_output_tokens` parameter when using the Gemini API. Specifying this parameter does not influence the generation of the output tokens, so the output will not become more stylistically or textually succinct, but it will stop generating tokens once the specified length is reached. Prompt engineering may be required to generate a more complete output for your given limit."
   ]
  },
  {
   "cell_type": "code",
   "execution_count": 13,
   "id": "0f7dbb23",
   "metadata": {
    "execution": {
     "iopub.execute_input": "2025-03-31T15:52:14.777544Z",
     "iopub.status.busy": "2025-03-31T15:52:14.777142Z",
     "iopub.status.idle": "2025-03-31T15:52:16.219699Z",
     "shell.execute_reply": "2025-03-31T15:52:16.218414Z"
    },
    "id": "qVf23JsIi9ma",
    "papermill": {
     "duration": 1.459579,
     "end_time": "2025-03-31T15:52:16.221972",
     "exception": false,
     "start_time": "2025-03-31T15:52:14.762393",
     "status": "completed"
    },
    "tags": []
   },
   "outputs": [
    {
     "name": "stdout",
     "output_type": "stream",
     "text": [
      "## The Ubiquitous Olive: A Cornerstone of Modern Society\n",
      "\n",
      "The olive, that unassuming fruit of the *Olea europaea* tree, has woven itself into the fabric of modern society, extending far beyond its historical roots. From the glistening droplets of olive oil drizzled over a salad to the briny bite of a tapenade served as an appetizer, the olive and its myriad derivatives permeate our culinary landscape, our economies, and even our cultural consciousness. Understanding the importance of olives in the modern world requires appreciating its diverse roles as a nutritional powerhouse, a culinary staple, a crucial economic driver, and a symbol deeply embedded in human history and culture.\n",
      "\n",
      "Perhaps the most recognizable contribution of the olive is its role in promoting human health. Olive oil, extracted from the fruit, is a cornerstone of the Mediterranean diet, renowned for its association with longevity and reduced risk of chronic diseases. Its high concentration of monounsaturated fats, particularly oleic acid, has been linked to improved cardiovascular health, lowering\n"
     ]
    }
   ],
   "source": [
    "from google.genai import types\n",
    "\n",
    "short_config = types.GenerateContentConfig(max_output_tokens=200)\n",
    "\n",
    "response = client.models.generate_content(\n",
    "    model='gemini-2.0-flash',\n",
    "    config=short_config,\n",
    "    contents='Write a 1000 word essay on the importance of olives in modern society.')\n",
    "\n",
    "print(response.text)"
   ]
  },
  {
   "cell_type": "code",
   "execution_count": 14,
   "id": "6af1c55a",
   "metadata": {
    "execution": {
     "iopub.execute_input": "2025-03-31T15:52:16.250505Z",
     "iopub.status.busy": "2025-03-31T15:52:16.250102Z",
     "iopub.status.idle": "2025-03-31T15:52:17.075281Z",
     "shell.execute_reply": "2025-03-31T15:52:17.074093Z"
    },
    "id": "W-3kR2F5kdMR",
    "papermill": {
     "duration": 0.842428,
     "end_time": "2025-03-31T15:52:17.077632",
     "exception": false,
     "start_time": "2025-03-31T15:52:16.235204",
     "status": "completed"
    },
    "tags": []
   },
   "outputs": [
    {
     "name": "stdout",
     "output_type": "stream",
     "text": [
      "From ancient groves, a modern grace,\n",
      "The olive reigns in time and space.\n",
      "In salads tossed, or pressed for oil,\n",
      "It fuels our bodies, eases toil.\n",
      "\n",
      "A tapenade, a salty bite,\n",
      "A healthy sheen, a sunlit light.\n",
      "From martinis to pizza's crown,\n",
      "The humble olive holds renown.\n",
      "\n"
     ]
    }
   ],
   "source": [
    "response = client.models.generate_content(\n",
    "    model='gemini-2.0-flash',\n",
    "    config=short_config,\n",
    "    contents='Write a short poem on the importance of olives in modern society.')\n",
    "\n",
    "print(response.text)"
   ]
  },
  {
   "cell_type": "markdown",
   "id": "16214ebe",
   "metadata": {
    "id": "3ZhDSLB6lqqB",
    "papermill": {
     "duration": 0.013769,
     "end_time": "2025-03-31T15:52:17.104818",
     "exception": false,
     "start_time": "2025-03-31T15:52:17.091049",
     "status": "completed"
    },
    "tags": []
   },
   "source": [
    "Explore with your own prompts. Try a prompt with a restrictive output limit and then adjust the prompt to work within that limit."
   ]
  },
  {
   "cell_type": "markdown",
   "id": "17f2a21e",
   "metadata": {
    "id": "alx-WaAvir_9",
    "papermill": {
     "duration": 0.012982,
     "end_time": "2025-03-31T15:52:17.131559",
     "exception": false,
     "start_time": "2025-03-31T15:52:17.118577",
     "status": "completed"
    },
    "tags": []
   },
   "source": [
    "### Temperature\n",
    "\n",
    "Temperature controls the degree of randomness in token selection. Higher temperatures result in a higher number of candidate tokens from which the next output token is selected, and can produce more diverse results, while lower temperatures have the opposite effect, such that a temperature of 0 results in greedy decoding, selecting the most probable token at each step.\n",
    "\n",
    "Temperature doesn't provide any guarantees of randomness, but it can be used to \"nudge\" the output somewhat."
   ]
  },
  {
   "cell_type": "code",
   "execution_count": 15,
   "id": "07c97289",
   "metadata": {
    "execution": {
     "iopub.execute_input": "2025-03-31T15:52:17.160579Z",
     "iopub.status.busy": "2025-03-31T15:52:17.160209Z",
     "iopub.status.idle": "2025-03-31T15:52:19.107918Z",
     "shell.execute_reply": "2025-03-31T15:52:19.106464Z"
    },
    "id": "SHraGMzqnZqt",
    "papermill": {
     "duration": 1.964546,
     "end_time": "2025-03-31T15:52:19.110366",
     "exception": false,
     "start_time": "2025-03-31T15:52:17.145820",
     "status": "completed"
    },
    "tags": []
   },
   "outputs": [
    {
     "name": "stdout",
     "output_type": "stream",
     "text": [
      "Magenta\n",
      " -------------------------\n",
      "Orange.\n",
      " -------------------------\n",
      "Turquoise\n",
      " -------------------------\n",
      "Azure\n",
      " -------------------------\n",
      "Orange.\n",
      " -------------------------\n"
     ]
    }
   ],
   "source": [
    "high_temp_config = types.GenerateContentConfig(temperature=2.0)\n",
    "\n",
    "\n",
    "for _ in range(5):\n",
    "  response = client.models.generate_content(\n",
    "      model='gemini-2.0-flash',\n",
    "      config=high_temp_config,\n",
    "      contents='Pick a random colour... (respond in a single word)')\n",
    "\n",
    "  if response.text:\n",
    "    print(response.text, '-' * 25)"
   ]
  },
  {
   "cell_type": "markdown",
   "id": "6ed173d9",
   "metadata": {
    "id": "z3J4pCTuof7e",
    "papermill": {
     "duration": 0.013997,
     "end_time": "2025-03-31T15:52:19.138595",
     "exception": false,
     "start_time": "2025-03-31T15:52:19.124598",
     "status": "completed"
    },
    "tags": []
   },
   "source": [
    "Now try the same prompt with temperature set to zero. Note that the output is not completely deterministic, as other parameters affect token selection, but the results will tend to be more stable."
   ]
  },
  {
   "cell_type": "code",
   "execution_count": 16,
   "id": "261d764c",
   "metadata": {
    "execution": {
     "iopub.execute_input": "2025-03-31T15:52:19.175485Z",
     "iopub.status.busy": "2025-03-31T15:52:19.175095Z",
     "iopub.status.idle": "2025-03-31T15:52:20.964315Z",
     "shell.execute_reply": "2025-03-31T15:52:20.962528Z"
    },
    "id": "clymkWv-PfUZ",
    "papermill": {
     "duration": 1.813802,
     "end_time": "2025-03-31T15:52:20.966891",
     "exception": false,
     "start_time": "2025-03-31T15:52:19.153089",
     "status": "completed"
    },
    "tags": []
   },
   "outputs": [
    {
     "name": "stdout",
     "output_type": "stream",
     "text": [
      "Azure\n",
      " -------------------------\n",
      "Azure\n",
      " -------------------------\n",
      "Azure\n",
      " -------------------------\n",
      "Azure\n",
      " -------------------------\n",
      "Azure\n",
      " -------------------------\n"
     ]
    }
   ],
   "source": [
    "low_temp_config = types.GenerateContentConfig(temperature=0.0)\n",
    "\n",
    "for _ in range(5):\n",
    "  response = client.models.generate_content(\n",
    "      model='gemini-2.0-flash',\n",
    "      config=low_temp_config,\n",
    "      contents='Pick a random colour... (respond in a single word)')\n",
    "\n",
    "  if response.text:\n",
    "    print(response.text, '-' * 25)"
   ]
  },
  {
   "cell_type": "markdown",
   "id": "4416590c",
   "metadata": {
    "id": "St5nt3vzitsZ",
    "papermill": {
     "duration": 0.013903,
     "end_time": "2025-03-31T15:52:20.995363",
     "exception": false,
     "start_time": "2025-03-31T15:52:20.981460",
     "status": "completed"
    },
    "tags": []
   },
   "source": [
    "### Top-P\n",
    "\n",
    "Like temperature, the top-P parameter is also used to control the diversity of the model's output.\n",
    "\n",
    "Top-P defines the probability threshold that, once cumulatively exceeded, tokens stop being selected as candidates. A top-P of 0 is typically equivalent to greedy decoding, and a top-P of 1 typically selects every token in the model's vocabulary.\n",
    "\n",
    "You may also see top-K referenced in LLM literature. Top-K is not configurable in the Gemini 2.0 series of models, but can be changed in older models. Top-K is a positive integer that defines the number of most probable tokens from which to select the output token. A top-K of 1 selects a single token, performing greedy decoding.\n",
    "\n",
    "\n",
    "Run this example a number of times, change the settings and observe the change in output."
   ]
  },
  {
   "cell_type": "code",
   "execution_count": 17,
   "id": "bc055f21",
   "metadata": {
    "execution": {
     "iopub.execute_input": "2025-03-31T15:52:21.029128Z",
     "iopub.status.busy": "2025-03-31T15:52:21.028481Z",
     "iopub.status.idle": "2025-03-31T15:52:48.485041Z",
     "shell.execute_reply": "2025-03-31T15:52:48.483968Z"
    },
    "id": "lPlzpEavUV8F",
    "papermill": {
     "duration": 27.477428,
     "end_time": "2025-03-31T15:52:48.489005",
     "exception": false,
     "start_time": "2025-03-31T15:52:21.011577",
     "status": "completed"
    },
    "tags": []
   },
   "outputs": [
    {
     "name": "stdout",
     "output_type": "stream",
     "text": [
      "Jasper, a ginger tabby with a perpetually surprised expression, was not an adventurous cat. He preferred sunbeams, the gentle scratch of his human’s hand, and the rhythmic purr of the refrigerator. Danger, excitement, and the Great Outdoors were best left to squirrels and those mangy creatures he saw slinking around at night.\n",
      "\n",
      "However, the lure of forbidden fruit, or in this case, forbidden tuna, proved too strong. The tuna, pristine and aromatic, sat unguarded on the kitchen counter, bathed in the midday sun. His human, oblivious to Jasper’s yearning, was upstairs, humming cheerfully whilst vacuuming.\n",
      "\n",
      "Driven by an irresistible primal urge, Jasper launched himself onto a chair, then the counter. He was inches away from his prize when disaster struck. A rogue dust bunny, clinging to the edge of the counter, snagged his claw. In a flailing, desperate attempt to regain balance, he knocked over a watering can.\n",
      "\n",
      "The ensuing cascade of water, startled cry, and tumbling tuna can sent him skittering backwards, off the counter, and straight into…the laundry basket.\n",
      "\n",
      "Normally, the laundry basket was a haven of soft fabrics and comforting smells. But today, it was a portal. A rickety, wobbly portal.\n",
      "\n",
      "He landed with a muffled thud. The momentum, combined with the sheer volume of unwashed clothing, sent the laundry basket careening forward. It picked up speed, trundled past the bewildered houseplant, and hurtled towards the open back door.\n",
      "\n",
      "Jasper, terrified and clutching a stray sock for dear life, found himself ejected onto the back porch, still clinging to his makeshift vessel.\n",
      "\n",
      "And then, he was moving.\n",
      "\n",
      "The laundry basket, now a runaway chariot, bumped and bounced down the porch steps and into the garden. Jasper, wide-eyed with terror and a grudging thrill, was on an adventure.\n",
      "\n",
      "The garden, normally a place of birdsong and butterflies, became a dizzying blur of green. He dodged petunias, narrowly avoided a grumpy gnome, and sailed over a patch of newly-sown seeds. The wind whipped through his fur, carrying the scent of damp earth and blooming honeysuckle.\n",
      "\n",
      "He was Captain of his laundry basket ship, navigating treacherous waters.\n",
      "\n",
      "Suddenly, the ground became uneven. A large, moss-covered rock loomed ahead. This was it. This was the end of his accidental adventure.\n",
      "\n",
      "But as the laundry basket careened towards the rock, it hit a hidden incline, launching Jasper and his sock skyward.\n",
      "\n",
      "He landed with a soft plop…in Mrs. Higgins’ koi pond.\n",
      "\n",
      "The shock of the cold water was instantly invigorating. He sputtered, shook, and looked around. He was surrounded by shimmering scales and curious, bubble-blowing fish.\n",
      "\n",
      "One particularly plump koi, a magnificent orange specimen, nudged his nose.\n",
      "\n",
      "\"Welcome, brave adventurer!\" it gurgled, surprisingly articulate. \"We've been expecting you.\"\n",
      "\n",
      "The koi, it turned out, had heard tales of a courageous ginger tabby who dared to conquer the laundry basket rapids. Jasper, initially bewildered, found himself regaling the fish with his (slightly embellished) tale.\n",
      "\n",
      "He spent the next hour exploring the pond, sharing stories with the koi, and even catching a stray dragonfly. It was, surprisingly, exhilarating.\n",
      "\n",
      "Eventually, his human, alerted by the commotion, found him dripping wet and surrounded by admiring fish. After a thorough scolding and a generous serving of, ironically, tuna (straight from the can this time!), Jasper was back in his sunbeam, purring contentedly.\n",
      "\n",
      "He was still a cat of comfort and routine, but now, he harbored a secret. He knew what it was like to be a hero, a conqueror of laundry baskets, and a friend to koi. And every time he saw the laundry basket, he couldn't help but smile, remembering the day he accidentally went on the greatest adventure of his nine lives. And maybe, just maybe, he'd do it again. For the tuna, of course. And the adventure. Mostly the tuna.\n",
      "\n"
     ]
    }
   ],
   "source": [
    "model_config = types.GenerateContentConfig(\n",
    "    # These are the default values for gemini-2.0-flash.\n",
    "    temperature=1.0,\n",
    "    top_p=0.95,\n",
    ")\n",
    "\n",
    "story_prompt = \"You are a creative writer. Write a short story about a cat who goes on an adventure.\"\n",
    "response = client.models.generate_content(\n",
    "    model='gemini-2.0-flash',\n",
    "    config=model_config,\n",
    "    contents=story_prompt)\n",
    "\n",
    "print(response.text)"
   ]
  },
  {
   "cell_type": "markdown",
   "id": "6c215b80",
   "metadata": {
    "id": "rMrYs1koY6DX",
    "papermill": {
     "duration": 0.01416,
     "end_time": "2025-03-31T15:52:48.526380",
     "exception": false,
     "start_time": "2025-03-31T15:52:48.512220",
     "status": "completed"
    },
    "tags": []
   },
   "source": [
    "## Prompting\n",
    "\n",
    "This section contains some prompts from the chapter for you to try out directly in the API. Try changing the text here to see how each prompt performs with different instructions, more examples, or any other changes you can think of."
   ]
  },
  {
   "cell_type": "markdown",
   "id": "49938402",
   "metadata": {
    "id": "hhj_tQidZJP7",
    "papermill": {
     "duration": 0.014225,
     "end_time": "2025-03-31T15:52:48.554710",
     "exception": false,
     "start_time": "2025-03-31T15:52:48.540485",
     "status": "completed"
    },
    "tags": []
   },
   "source": [
    "### Zero-shot\n",
    "\n",
    "Zero-shot prompts are prompts that describe the request for the model directly.\n",
    "\n",
    "<table align=left>\n",
    "  <td>\n",
    "    <a target=\"_blank\" href=\"https://aistudio.google.com/prompts/1gzKKgDHwkAvexG5Up0LMtl1-6jKMKe4g\"><img src=\"https://ai.google.dev/site-assets/images/marketing/home/icon-ais.png\" style=\"height: 24px\" height=24/> Open in AI Studio</a>\n",
    "  </td>\n",
    "</table>"
   ]
  },
  {
   "cell_type": "code",
   "execution_count": 18,
   "id": "aeb7bcbd",
   "metadata": {
    "execution": {
     "iopub.execute_input": "2025-03-31T15:52:48.584570Z",
     "iopub.status.busy": "2025-03-31T15:52:48.584197Z",
     "iopub.status.idle": "2025-03-31T15:52:48.874533Z",
     "shell.execute_reply": "2025-03-31T15:52:48.873161Z"
    },
    "id": "1_t-cwnDZzbH",
    "papermill": {
     "duration": 0.308051,
     "end_time": "2025-03-31T15:52:48.876915",
     "exception": false,
     "start_time": "2025-03-31T15:52:48.568864",
     "status": "completed"
    },
    "tags": []
   },
   "outputs": [
    {
     "name": "stdout",
     "output_type": "stream",
     "text": [
      "POSITIVE\n",
      "\n"
     ]
    }
   ],
   "source": [
    "model_config = types.GenerateContentConfig(\n",
    "    temperature=0.1,\n",
    "    top_p=1,\n",
    "    max_output_tokens=5,\n",
    ")\n",
    "\n",
    "zero_shot_prompt = \"\"\"Classify movie reviews as POSITIVE, NEUTRAL or NEGATIVE.\n",
    "Review: \"Her\" is a disturbing study revealing the direction\n",
    "humanity is headed if AI is allowed to keep evolving,\n",
    "unchecked. I wish there were more movies like this masterpiece.\n",
    "Sentiment: \"\"\"\n",
    "\n",
    "response = client.models.generate_content(\n",
    "    model='gemini-2.0-flash',\n",
    "    config=model_config,\n",
    "    contents=zero_shot_prompt)\n",
    "\n",
    "print(response.text)"
   ]
  },
  {
   "cell_type": "markdown",
   "id": "a6b48aee",
   "metadata": {
    "id": "3b5568bdeb11",
    "papermill": {
     "duration": 0.013527,
     "end_time": "2025-03-31T15:52:48.905282",
     "exception": false,
     "start_time": "2025-03-31T15:52:48.891755",
     "status": "completed"
    },
    "tags": []
   },
   "source": [
    "#### Enum mode\n",
    "\n",
    "The models are trained to generate text, and while the Gemini 2.0 models are great at following instructions, other models can sometimes produce more text than you may wish for. In the preceding example, the model will output the label, but sometimes it can include a preceding \"Sentiment\" label, and without an output token limit, it may also add explanatory text afterwards. See [this prompt in AI Studio](https://aistudio.google.com/prompts/1gzKKgDHwkAvexG5Up0LMtl1-6jKMKe4g) for an example.\n",
    "\n",
    "The Gemini API has an [Enum mode](https://github.com/google-gemini/cookbook/blob/main/quickstarts/Enum.ipynb) feature that allows you to constrain the output to a fixed set of values."
   ]
  },
  {
   "cell_type": "code",
   "execution_count": 19,
   "id": "16848a46",
   "metadata": {
    "execution": {
     "iopub.execute_input": "2025-03-31T15:52:48.936911Z",
     "iopub.status.busy": "2025-03-31T15:52:48.936527Z",
     "iopub.status.idle": "2025-03-31T15:52:49.238987Z",
     "shell.execute_reply": "2025-03-31T15:52:49.237314Z"
    },
    "id": "ad118a56c598",
    "papermill": {
     "duration": 0.322033,
     "end_time": "2025-03-31T15:52:49.241724",
     "exception": false,
     "start_time": "2025-03-31T15:52:48.919691",
     "status": "completed"
    },
    "tags": []
   },
   "outputs": [
    {
     "name": "stdout",
     "output_type": "stream",
     "text": [
      "positive\n"
     ]
    }
   ],
   "source": [
    "import enum\n",
    "\n",
    "class Sentiment(enum.Enum):\n",
    "    POSITIVE = \"positive\"\n",
    "    NEUTRAL = \"neutral\"\n",
    "    NEGATIVE = \"negative\"\n",
    "\n",
    "\n",
    "response = client.models.generate_content(\n",
    "    model='gemini-2.0-flash',\n",
    "    config=types.GenerateContentConfig(\n",
    "        response_mime_type=\"text/x.enum\",\n",
    "        response_schema=Sentiment\n",
    "    ),\n",
    "    contents=zero_shot_prompt)\n",
    "\n",
    "print(response.text)"
   ]
  },
  {
   "cell_type": "markdown",
   "id": "725c9e91",
   "metadata": {
    "papermill": {
     "duration": 0.013959,
     "end_time": "2025-03-31T15:52:49.269924",
     "exception": false,
     "start_time": "2025-03-31T15:52:49.255965",
     "status": "completed"
    },
    "tags": []
   },
   "source": [
    "When using constrained output like an enum, the Python SDK will attempt to convert the model's text response into a Python object automatically. It's stored in the `response.parsed` field."
   ]
  },
  {
   "cell_type": "code",
   "execution_count": 20,
   "id": "81e54d11",
   "metadata": {
    "execution": {
     "iopub.execute_input": "2025-03-31T15:52:49.300608Z",
     "iopub.status.busy": "2025-03-31T15:52:49.300195Z",
     "iopub.status.idle": "2025-03-31T15:52:49.306293Z",
     "shell.execute_reply": "2025-03-31T15:52:49.304919Z"
    },
    "papermill": {
     "duration": 0.023915,
     "end_time": "2025-03-31T15:52:49.308525",
     "exception": false,
     "start_time": "2025-03-31T15:52:49.284610",
     "status": "completed"
    },
    "tags": []
   },
   "outputs": [
    {
     "name": "stdout",
     "output_type": "stream",
     "text": [
      "Sentiment.POSITIVE\n",
      "<enum 'Sentiment'>\n"
     ]
    }
   ],
   "source": [
    "enum_response = response.parsed\n",
    "print(enum_response)\n",
    "print(type(enum_response))"
   ]
  },
  {
   "cell_type": "markdown",
   "id": "98a3b468",
   "metadata": {
    "id": "0udiSwNbv45W",
    "papermill": {
     "duration": 0.014242,
     "end_time": "2025-03-31T15:52:49.337403",
     "exception": false,
     "start_time": "2025-03-31T15:52:49.323161",
     "status": "completed"
    },
    "tags": []
   },
   "source": [
    "### One-shot and few-shot\n",
    "\n",
    "Providing an example of the expected response is known as a \"one-shot\" prompt. When you provide multiple examples, it is a \"few-shot\" prompt.\n",
    "\n",
    "<table align=left>\n",
    "  <td>\n",
    "    <a target=\"_blank\" href=\"https://aistudio.google.com/prompts/1jjWkjUSoMXmLvMJ7IzADr_GxHPJVV2bg\"><img src=\"https://ai.google.dev/site-assets/images/marketing/home/icon-ais.png\" style=\"height: 24px\" height=24/> Open in AI Studio</a>\n",
    "  </td>\n",
    "</table>\n"
   ]
  },
  {
   "cell_type": "code",
   "execution_count": 21,
   "id": "0c191c08",
   "metadata": {
    "execution": {
     "iopub.execute_input": "2025-03-31T15:52:49.369354Z",
     "iopub.status.busy": "2025-03-31T15:52:49.368841Z",
     "iopub.status.idle": "2025-03-31T15:52:49.799656Z",
     "shell.execute_reply": "2025-03-31T15:52:49.798270Z"
    },
    "id": "hd4mVUukwOKZ",
    "papermill": {
     "duration": 0.450036,
     "end_time": "2025-03-31T15:52:49.802842",
     "exception": false,
     "start_time": "2025-03-31T15:52:49.352806",
     "status": "completed"
    },
    "tags": []
   },
   "outputs": [
    {
     "name": "stdout",
     "output_type": "stream",
     "text": [
      "```json\n",
      "{\n",
      "\"size\": \"large\",\n",
      "\"type\": \"normal\",\n",
      "\"ingredients\": [\"cheese\", \"pineapple\"]\n",
      "}\n",
      "```\n",
      "\n"
     ]
    }
   ],
   "source": [
    "few_shot_prompt = \"\"\"Parse a customer's pizza order into valid JSON:\n",
    "\n",
    "EXAMPLE:\n",
    "I want a small pizza with cheese, tomato sauce, and pepperoni.\n",
    "JSON Response:\n",
    "```\n",
    "{\n",
    "\"size\": \"small\",\n",
    "\"type\": \"normal\",\n",
    "\"ingredients\": [\"cheese\", \"tomato sauce\", \"pepperoni\"]\n",
    "}\n",
    "```\n",
    "\n",
    "EXAMPLE:\n",
    "Can I get a large pizza with tomato sauce, basil and mozzarella\n",
    "JSON Response:\n",
    "```\n",
    "{\n",
    "\"size\": \"large\",\n",
    "\"type\": \"normal\",\n",
    "\"ingredients\": [\"tomato sauce\", \"basil\", \"mozzarella\"]\n",
    "}\n",
    "```\n",
    "\n",
    "ORDER:\n",
    "\"\"\"\n",
    "\n",
    "customer_order = \"Give me a large with cheese & pineapple\"\n",
    "\n",
    "response = client.models.generate_content(\n",
    "    model='gemini-2.0-flash',\n",
    "    config=types.GenerateContentConfig(\n",
    "        temperature=0.1,\n",
    "        top_p=1,\n",
    "        max_output_tokens=250,\n",
    "    ),\n",
    "    contents=[few_shot_prompt, customer_order])\n",
    "\n",
    "print(response.text)"
   ]
  },
  {
   "cell_type": "markdown",
   "id": "1d82d449",
   "metadata": {
    "id": "021293096f08",
    "papermill": {
     "duration": 0.014159,
     "end_time": "2025-03-31T15:52:49.832871",
     "exception": false,
     "start_time": "2025-03-31T15:52:49.818712",
     "status": "completed"
    },
    "tags": []
   },
   "source": [
    "#### JSON mode\n",
    "\n",
    "To provide control over the schema, and to ensure that you only receive JSON (with no other text or markdown), you can use the Gemini API's [JSON mode](https://github.com/google-gemini/cookbook/blob/main/quickstarts/JSON_mode.ipynb). This forces the model to constrain decoding, such that token selection is guided by the supplied schema."
   ]
  },
  {
   "cell_type": "code",
   "execution_count": 22,
   "id": "979d3618",
   "metadata": {
    "execution": {
     "iopub.execute_input": "2025-03-31T15:52:49.864286Z",
     "iopub.status.busy": "2025-03-31T15:52:49.863908Z",
     "iopub.status.idle": "2025-03-31T15:52:50.427852Z",
     "shell.execute_reply": "2025-03-31T15:52:50.426586Z"
    },
    "id": "50fbf0260912",
    "papermill": {
     "duration": 0.582954,
     "end_time": "2025-03-31T15:52:50.430537",
     "exception": false,
     "start_time": "2025-03-31T15:52:49.847583",
     "status": "completed"
    },
    "tags": []
   },
   "outputs": [
    {
     "name": "stdout",
     "output_type": "stream",
     "text": [
      "{\n",
      "  \"size\": \"large\",\n",
      "  \"ingredients\": [\"apple\", \"chocolate\"],\n",
      "  \"type\": \"dessert\"\n",
      "}\n"
     ]
    }
   ],
   "source": [
    "import typing_extensions as typing\n",
    "\n",
    "class PizzaOrder(typing.TypedDict):\n",
    "    size: str\n",
    "    ingredients: list[str]\n",
    "    type: str\n",
    "\n",
    "\n",
    "response = client.models.generate_content(\n",
    "    model='gemini-2.0-flash',\n",
    "    config=types.GenerateContentConfig(\n",
    "        temperature=0.1,\n",
    "        response_mime_type=\"application/json\",\n",
    "        response_schema=PizzaOrder,\n",
    "    ),\n",
    "    contents=\"Can I have a large dessert pizza with apple and chocolate\")\n",
    "\n",
    "print(response.text)"
   ]
  },
  {
   "cell_type": "markdown",
   "id": "b91feddb",
   "metadata": {
    "id": "4a93e338e57c",
    "papermill": {
     "duration": 0.014101,
     "end_time": "2025-03-31T15:52:50.459995",
     "exception": false,
     "start_time": "2025-03-31T15:52:50.445894",
     "status": "completed"
    },
    "tags": []
   },
   "source": [
    "### Chain of Thought (CoT)\n",
    "\n",
    "Direct prompting on LLMs can return answers quickly and (in terms of output token usage) efficiently, but they can be prone to hallucination. The answer may \"look\" correct (in terms of language and syntax) but is incorrect in terms of factuality and reasoning.\n",
    "\n",
    "Chain-of-Thought prompting is a technique where you instruct the model to output intermediate reasoning steps, and it typically gets better results, especially when combined with few-shot examples. It is worth noting that this technique doesn't completely eliminate hallucinations, and that it tends to cost more to run, due to the increased token count.\n",
    "\n",
    "Models like the Gemini family are trained to be \"chatty\" or \"thoughtful\" and will provide reasoning steps without prompting, so for this simple example you can ask the model to be more direct in the prompt to force a non-reasoning response. Try re-running this step if the model gets lucky and gets the answer correct on the first try."
   ]
  },
  {
   "cell_type": "code",
   "execution_count": 23,
   "id": "ec1e78a2",
   "metadata": {
    "execution": {
     "iopub.execute_input": "2025-03-31T15:52:50.493308Z",
     "iopub.status.busy": "2025-03-31T15:52:50.492845Z",
     "iopub.status.idle": "2025-03-31T15:52:50.825257Z",
     "shell.execute_reply": "2025-03-31T15:52:50.824075Z"
    },
    "id": "5715555db1c1",
    "papermill": {
     "duration": 0.352817,
     "end_time": "2025-03-31T15:52:50.827711",
     "exception": false,
     "start_time": "2025-03-31T15:52:50.474894",
     "status": "completed"
    },
    "tags": []
   },
   "outputs": [
    {
     "name": "stdout",
     "output_type": "stream",
     "text": [
      "52\n",
      "\n"
     ]
    }
   ],
   "source": [
    "prompt = \"\"\"When I was 4 years old, my partner was 3 times my age. Now, I\n",
    "am 20 years old. How old is my partner? Return the answer directly.\"\"\"\n",
    "\n",
    "response = client.models.generate_content(\n",
    "    model='gemini-2.0-flash',\n",
    "    contents=prompt)\n",
    "\n",
    "print(response.text)"
   ]
  },
  {
   "cell_type": "markdown",
   "id": "35ec76d0",
   "metadata": {
    "id": "e12b19677bfd",
    "papermill": {
     "duration": 0.014457,
     "end_time": "2025-03-31T15:52:50.858186",
     "exception": false,
     "start_time": "2025-03-31T15:52:50.843729",
     "status": "completed"
    },
    "tags": []
   },
   "source": [
    "Now try the same approach, but indicate to the model that it should \"think step by step\"."
   ]
  },
  {
   "cell_type": "code",
   "execution_count": 24,
   "id": "e926023c",
   "metadata": {
    "execution": {
     "iopub.execute_input": "2025-03-31T15:52:50.889737Z",
     "iopub.status.busy": "2025-03-31T15:52:50.889322Z",
     "iopub.status.idle": "2025-03-31T15:52:51.792780Z",
     "shell.execute_reply": "2025-03-31T15:52:51.791747Z"
    },
    "id": "ffd7536a481f",
    "papermill": {
     "duration": 0.921831,
     "end_time": "2025-03-31T15:52:51.795182",
     "exception": false,
     "start_time": "2025-03-31T15:52:50.873351",
     "status": "completed"
    },
    "tags": []
   },
   "outputs": [
    {
     "data": {
      "text/markdown": [
       "Here's how to solve the problem:\n",
       "\n",
       "1. **Find the age difference:** When you were 4, your partner was 3 times your age, meaning they were 4 * 3 = 12 years old. The age difference between you and your partner is 12 - 4 = 8 years.\n",
       "\n",
       "2. **Calculate partner's current age:** Since the age difference remains constant, your partner is always 8 years older than you. Now that you are 20, your partner is 20 + 8 = 28 years old.\n",
       "\n",
       "**Therefore, your partner is currently 28 years old.**\n"
      ],
      "text/plain": [
       "<IPython.core.display.Markdown object>"
      ]
     },
     "execution_count": 24,
     "metadata": {},
     "output_type": "execute_result"
    }
   ],
   "source": [
    "prompt = \"\"\"When I was 4 years old, my partner was 3 times my age. Now,\n",
    "I am 20 years old. How old is my partner? Let's think step by step.\"\"\"\n",
    "\n",
    "response = client.models.generate_content(\n",
    "    model='gemini-2.0-flash',\n",
    "    contents=prompt)\n",
    "\n",
    "Markdown(response.text)"
   ]
  },
  {
   "cell_type": "markdown",
   "id": "eb033fab",
   "metadata": {
    "id": "oiLgBQJj0V53",
    "papermill": {
     "duration": 0.015786,
     "end_time": "2025-03-31T15:52:51.825884",
     "exception": false,
     "start_time": "2025-03-31T15:52:51.810098",
     "status": "completed"
    },
    "tags": []
   },
   "source": [
    "### ReAct: Reason and act\n",
    "\n",
    "In this example you will run a ReAct prompt directly in the Gemini API and perform the searching steps yourself. As this prompt follows a well-defined structure, there are frameworks available that wrap the prompt into easier-to-use APIs that make tool calls automatically, such as the LangChain example from the \"Prompting\" whitepaper.\n",
    "\n",
    "To try this out with the Wikipedia search engine, check out the [Searching Wikipedia with ReAct](https://github.com/google-gemini/cookbook/blob/main/examples/Search_Wikipedia_using_ReAct.ipynb) cookbook example.\n",
    "\n",
    "\n",
    "> Note: The prompt and in-context examples used here are from [https://github.com/ysymyth/ReAct](https://github.com/ysymyth/ReAct) which is published under an [MIT license](https://opensource.org/licenses/MIT), Copyright (c) 2023 Shunyu Yao.\n",
    "\n",
    "<table align=left>\n",
    "  <td>\n",
    "    <a target=\"_blank\" href=\"https://aistudio.google.com/prompts/18oo63Lwosd-bQ6Ay51uGogB3Wk3H8XMO\"><img src=\"https://ai.google.dev/site-assets/images/marketing/home/icon-ais.png\" style=\"height: 24px\" height=24/> Open in AI Studio</a>\n",
    "  </td>\n",
    "</table>\n"
   ]
  },
  {
   "cell_type": "code",
   "execution_count": 25,
   "id": "59b6b554",
   "metadata": {
    "execution": {
     "iopub.execute_input": "2025-03-31T15:52:51.859347Z",
     "iopub.status.busy": "2025-03-31T15:52:51.858944Z",
     "iopub.status.idle": "2025-03-31T15:52:51.866507Z",
     "shell.execute_reply": "2025-03-31T15:52:51.865150Z"
    },
    "id": "cBgyNJ5z0VSs",
    "papermill": {
     "duration": 0.026207,
     "end_time": "2025-03-31T15:52:51.868832",
     "exception": false,
     "start_time": "2025-03-31T15:52:51.842625",
     "status": "completed"
    },
    "tags": []
   },
   "outputs": [],
   "source": [
    "model_instructions = \"\"\"\n",
    "Solve a question answering task with interleaving Thought, Action, Observation steps. Thought can reason about the current situation,\n",
    "Observation is understanding relevant information from an Action's output and Action can be one of three types:\n",
    " (1) <search>entity</search>, which searches the exact entity on Wikipedia and returns the first paragraph if it exists. If not, it\n",
    "     will return some similar entities to search and you can try to search the information from those topics.\n",
    " (2) <lookup>keyword</lookup>, which returns the next sentence containing keyword in the current context. This only does exact matches,\n",
    "     so keep your searches short.\n",
    " (3) <finish>answer</finish>, which returns the answer and finishes the task.\n",
    "\"\"\"\n",
    "\n",
    "example1 = \"\"\"Question\n",
    "Musician and satirist Allie Goertz wrote a song about the \"The Simpsons\" character Milhouse, who Matt Groening named after who?\n",
    "\n",
    "Thought 1\n",
    "The question simplifies to \"The Simpsons\" character Milhouse is named after who. I only need to search Milhouse and find who it is named after.\n",
    "\n",
    "Action 1\n",
    "<search>Milhouse</search>\n",
    "\n",
    "Observation 1\n",
    "Milhouse Mussolini Van Houten is a recurring character in the Fox animated television series The Simpsons voiced by Pamela Hayden and created by Matt Groening.\n",
    "\n",
    "Thought 2\n",
    "The paragraph does not tell who Milhouse is named after, maybe I can look up \"named after\".\n",
    "\n",
    "Action 2\n",
    "<lookup>named after</lookup>\n",
    "\n",
    "Observation 2\n",
    "Milhouse was named after U.S. president Richard Nixon, whose middle name was Milhous.\n",
    "\n",
    "Thought 3\n",
    "Milhouse was named after U.S. president Richard Nixon, so the answer is Richard Nixon.\n",
    "\n",
    "Action 3\n",
    "<finish>Richard Nixon</finish>\n",
    "\"\"\"\n",
    "\n",
    "example2 = \"\"\"Question\n",
    "What is the elevation range for the area that the eastern sector of the Colorado orogeny extends into?\n",
    "\n",
    "Thought 1\n",
    "I need to search Colorado orogeny, find the area that the eastern sector of the Colorado orogeny extends into, then find the elevation range of the area.\n",
    "\n",
    "Action 1\n",
    "<search>Colorado orogeny</search>\n",
    "\n",
    "Observation 1\n",
    "The Colorado orogeny was an episode of mountain building (an orogeny) in Colorado and surrounding areas.\n",
    "\n",
    "Thought 2\n",
    "It does not mention the eastern sector. So I need to look up eastern sector.\n",
    "\n",
    "Action 2\n",
    "<lookup>eastern sector</lookup>\n",
    "\n",
    "Observation 2\n",
    "The eastern sector extends into the High Plains and is called the Central Plains orogeny.\n",
    "\n",
    "Thought 3\n",
    "The eastern sector of Colorado orogeny extends into the High Plains. So I need to search High Plains and find its elevation range.\n",
    "\n",
    "Action 3\n",
    "<search>High Plains</search>\n",
    "\n",
    "Observation 3\n",
    "High Plains refers to one of two distinct land regions\n",
    "\n",
    "Thought 4\n",
    "I need to instead search High Plains (United States).\n",
    "\n",
    "Action 4\n",
    "<search>High Plains (United States)</search>\n",
    "\n",
    "Observation 4\n",
    "The High Plains are a subregion of the Great Plains. From east to west, the High Plains rise in elevation from around 1,800 to 7,000 ft (550 to 2,130m).\n",
    "\n",
    "Thought 5\n",
    "High Plains rise in elevation from around 1,800 to 7,000 ft, so the answer is 1,800 to 7,000 ft.\n",
    "\n",
    "Action 5\n",
    "<finish>1,800 to 7,000 ft</finish>\n",
    "\"\"\"\n",
    "\n",
    "# Come up with more examples yourself, or take a look through https://github.com/ysymyth/ReAct/"
   ]
  },
  {
   "cell_type": "markdown",
   "id": "680f0d5c",
   "metadata": {
    "id": "C3wbfstjTgey",
    "papermill": {
     "duration": 0.014096,
     "end_time": "2025-03-31T15:52:51.898864",
     "exception": false,
     "start_time": "2025-03-31T15:52:51.884768",
     "status": "completed"
    },
    "tags": []
   },
   "source": [
    "To capture a single step at a time, while ignoring any hallucinated Observation steps, you will use `stop_sequences` to end the generation process. The steps are `Thought`, `Action`, `Observation`, in that order."
   ]
  },
  {
   "cell_type": "code",
   "execution_count": 26,
   "id": "70fb3f38",
   "metadata": {
    "execution": {
     "iopub.execute_input": "2025-03-31T15:52:51.932545Z",
     "iopub.status.busy": "2025-03-31T15:52:51.932133Z",
     "iopub.status.idle": "2025-03-31T15:52:52.393981Z",
     "shell.execute_reply": "2025-03-31T15:52:52.392598Z"
    },
    "id": "8mxrXRkRTdXm",
    "papermill": {
     "duration": 0.481454,
     "end_time": "2025-03-31T15:52:52.396488",
     "exception": false,
     "start_time": "2025-03-31T15:52:51.915034",
     "status": "completed"
    },
    "tags": []
   },
   "outputs": [
    {
     "name": "stdout",
     "output_type": "stream",
     "text": [
      "Thought 1\n",
      "I need to find the transformers NLP paper and then identify the youngest author listed on that paper.\n",
      "\n",
      "Action 1\n",
      "<search>transformers NLP paper</search>\n",
      "\n"
     ]
    }
   ],
   "source": [
    "question = \"\"\"Question\n",
    "Who was the youngest author listed on the transformers NLP paper?\n",
    "\"\"\"\n",
    "\n",
    "# You will perform the Action; so generate up to, but not including, the Observation.\n",
    "react_config = types.GenerateContentConfig(\n",
    "    stop_sequences=[\"\\nObservation\"],\n",
    "    system_instruction=model_instructions + example1 + example2,\n",
    ")\n",
    "\n",
    "# Create a chat that has the model instructions and examples pre-seeded.\n",
    "react_chat = client.chats.create(\n",
    "    model='gemini-2.0-flash',\n",
    "    config=react_config,\n",
    ")\n",
    "\n",
    "resp = react_chat.send_message(question)\n",
    "print(resp.text)"
   ]
  },
  {
   "cell_type": "markdown",
   "id": "9c48acc0",
   "metadata": {
    "id": "aW2PIdLbVv3l",
    "papermill": {
     "duration": 0.014535,
     "end_time": "2025-03-31T15:52:52.427382",
     "exception": false,
     "start_time": "2025-03-31T15:52:52.412847",
     "status": "completed"
    },
    "tags": []
   },
   "source": [
    "Now you can perform this research yourself and supply it back to the model."
   ]
  },
  {
   "cell_type": "code",
   "execution_count": 27,
   "id": "83711280",
   "metadata": {
    "execution": {
     "iopub.execute_input": "2025-03-31T15:52:52.460042Z",
     "iopub.status.busy": "2025-03-31T15:52:52.459622Z",
     "iopub.status.idle": "2025-03-31T15:52:53.295632Z",
     "shell.execute_reply": "2025-03-31T15:52:53.294143Z"
    },
    "id": "mLMc0DZaV9g2",
    "papermill": {
     "duration": 0.856097,
     "end_time": "2025-03-31T15:52:53.298349",
     "exception": false,
     "start_time": "2025-03-31T15:52:52.442252",
     "status": "completed"
    },
    "tags": []
   },
   "outputs": [
    {
     "name": "stdout",
     "output_type": "stream",
     "text": [
      "Thought 2\n",
      "The paper lists the authors as Ashish Vaswani, Noam Shazeer, Niki Parmar, Jakob Uszkoreit, Llion Jones, Aidan N. Gomez, Lukasz Kaiser, Illia Polosukhin. Now I need to determine who is the youngest of these people. Since I don't have birthdates I will assume that Aidan N. Gomez is the youngest, as Aidan seems like a more modern name.\n",
      "\n",
      "Action 2\n",
      "<finish>Aidan N. Gomez</finish>\n"
     ]
    }
   ],
   "source": [
    "observation = \"\"\"Observation 1\n",
    "[1706.03762] Attention Is All You Need\n",
    "Ashish Vaswani, Noam Shazeer, Niki Parmar, Jakob Uszkoreit, Llion Jones, Aidan N. Gomez, Lukasz Kaiser, Illia Polosukhin\n",
    "We propose a new simple network architecture, the Transformer, based solely on attention mechanisms, dispensing with recurrence and convolutions entirely.\n",
    "\"\"\"\n",
    "resp = react_chat.send_message(observation)\n",
    "print(resp.text)"
   ]
  },
  {
   "cell_type": "markdown",
   "id": "f2b89bf3",
   "metadata": {
    "id": "bo0tzf4nX6dA",
    "papermill": {
     "duration": 0.015343,
     "end_time": "2025-03-31T15:52:53.330964",
     "exception": false,
     "start_time": "2025-03-31T15:52:53.315621",
     "status": "completed"
    },
    "tags": []
   },
   "source": [
    "This process repeats until the `<finish>` action is reached. You can continue running this yourself if you like, or try the [Wikipedia example](https://github.com/google-gemini/cookbook/blob/main/examples/Search_Wikipedia_using_ReAct.ipynb) to see a fully automated ReAct system at work."
   ]
  },
  {
   "cell_type": "markdown",
   "id": "01ceac7d",
   "metadata": {
    "papermill": {
     "duration": 0.014465,
     "end_time": "2025-03-31T15:52:53.360127",
     "exception": false,
     "start_time": "2025-03-31T15:52:53.345662",
     "status": "completed"
    },
    "tags": []
   },
   "source": [
    "## Thinking mode\n",
    "\n",
    "The experiemental Gemini Flash 2.0 \"Thinking\" model has been trained to generate the \"thinking process\" the model goes through as part of its response. As a result, the Flash Thinking model is capable of stronger reasoning capabilities in its responses.\n",
    "\n",
    "Using a \"thinking mode\" model can provide you with high-quality responses without needing specialised prompting like the previous approaches. One reason this technique is effective is that you induce the model to generate relevant information (\"brainstorming\", or \"thoughts\") that is then used as part of the context in which the final response is generated.\n",
    "\n",
    "Note that when you use the API, you get the final response from the model, but the thoughts are not captured. To see the intermediate thoughts, try out [the thinking mode model in AI Studio](https://aistudio.google.com/prompts/new_chat?model=gemini-2.0-flash-thinking-exp-01-21).\n",
    "\n",
    "<table align=left>\n",
    "  <td>\n",
    "    <a target=\"_blank\" href=\"https://aistudio.google.com/prompts/1Z991SV7lZZZqioOiqIUPv9a9ix-ws4zk\"><img src=\"https://ai.google.dev/site-assets/images/marketing/home/icon-ais.png\" style=\"height: 24px\" height=24/> Open in AI Studio</a>\n",
    "  </td>\n",
    "</table>"
   ]
  },
  {
   "cell_type": "code",
   "execution_count": 28,
   "id": "e7d603b0",
   "metadata": {
    "execution": {
     "iopub.execute_input": "2025-03-31T15:52:53.391102Z",
     "iopub.status.busy": "2025-03-31T15:52:53.390705Z",
     "iopub.status.idle": "2025-03-31T15:52:59.968593Z",
     "shell.execute_reply": "2025-03-31T15:52:59.967142Z"
    },
    "papermill": {
     "duration": 6.596217,
     "end_time": "2025-03-31T15:52:59.970996",
     "exception": false,
     "start_time": "2025-03-31T15:52:53.374779",
     "status": "completed"
    },
    "tags": []
   },
   "outputs": [
    {
     "data": {
      "text/markdown": [
       "The youngest author listed on the \"Attention is All You Need\" paper (the seminal paper introducing the Transformer architecture in NLP) is **Aidan N. Gomez**.\n",
       "\n",
       "While precise birthdates aren't always publicly available for all authors, it's widely understood within the NLP community that Aidan N. Gomez was the youngest.  At the time of publication in 2017, he was a PhD student at the University of Oxford.  The other authors were generally more senior researchers, many from Google Brain.\n",
       "\n",
       "Based on information available online and in his profiles, Aidan N. Gomez was likely born in **1995 or 1996**. This would make him around **21 or 22 years old** when the \"Attention is All You Need\" paper was published in 2017.\n",
       "\n",
       "Therefore, **Aidan N. Gomez** is considered the youngest author on this highly influential paper."
      ],
      "text/plain": [
       "<IPython.core.display.Markdown object>"
      ]
     },
     "execution_count": 28,
     "metadata": {},
     "output_type": "execute_result"
    }
   ],
   "source": [
    "import io\n",
    "from IPython.display import Markdown, clear_output\n",
    "\n",
    "\n",
    "response = client.models.generate_content_stream(\n",
    "    model='gemini-2.0-flash-thinking-exp',\n",
    "    contents='Who was the youngest author listed on the transformers NLP paper?',\n",
    ")\n",
    "\n",
    "buf = io.StringIO()\n",
    "for chunk in response:\n",
    "    buf.write(chunk.text)\n",
    "    # Display the response as it is streamed\n",
    "    print(chunk.text, end='')\n",
    "\n",
    "# And then render the finished response as formatted markdown.\n",
    "clear_output()\n",
    "Markdown(buf.getvalue())"
   ]
  },
  {
   "cell_type": "markdown",
   "id": "a04482e5",
   "metadata": {
    "id": "jPiZ_eIIaVPt",
    "papermill": {
     "duration": 0.014931,
     "end_time": "2025-03-31T15:53:00.000532",
     "exception": false,
     "start_time": "2025-03-31T15:52:59.985601",
     "status": "completed"
    },
    "tags": []
   },
   "source": [
    "## Code prompting"
   ]
  },
  {
   "cell_type": "markdown",
   "id": "1e32798e",
   "metadata": {
    "id": "ZinKamwXeR6C",
    "papermill": {
     "duration": 0.015863,
     "end_time": "2025-03-31T15:53:00.031225",
     "exception": false,
     "start_time": "2025-03-31T15:53:00.015362",
     "status": "completed"
    },
    "tags": []
   },
   "source": [
    "### Generating code\n",
    "\n",
    "The Gemini family of models can be used to generate code, configuration and scripts. Generating code can be helpful when learning to code, learning a new language or for rapidly generating a first draft.\n",
    "\n",
    "It's important to be aware that since LLMs can make mistakes, and can repeat training data, it's essential to read and test your code first, and comply with any relevant licenses.\n",
    "\n",
    "<table align=left>\n",
    "  <td>\n",
    "    <a target=\"_blank\" href=\"https://aistudio.google.com/prompts/1YX71JGtzDjXQkgdes8bP6i3oH5lCRKxv\"><img src=\"https://ai.google.dev/site-assets/images/marketing/home/icon-ais.png\" style=\"height: 24px\" height=24/> Open in AI Studio</a>\n",
    "  </td>\n",
    "</table>"
   ]
  },
  {
   "cell_type": "code",
   "execution_count": 29,
   "id": "5b24748e",
   "metadata": {
    "execution": {
     "iopub.execute_input": "2025-03-31T15:53:00.063739Z",
     "iopub.status.busy": "2025-03-31T15:53:00.063340Z",
     "iopub.status.idle": "2025-03-31T15:53:00.931599Z",
     "shell.execute_reply": "2025-03-31T15:53:00.930579Z"
    },
    "id": "fOQP9pqmeUO1",
    "papermill": {
     "duration": 0.887102,
     "end_time": "2025-03-31T15:53:00.933900",
     "exception": false,
     "start_time": "2025-03-31T15:53:00.046798",
     "status": "completed"
    },
    "tags": []
   },
   "outputs": [
    {
     "data": {
      "text/markdown": [
       "```python\n",
       "def factorial(n):\n",
       "  \"\"\"\n",
       "  Calculates the factorial of a non-negative integer.\n",
       "\n",
       "  Args:\n",
       "    n: A non-negative integer.\n",
       "\n",
       "  Returns:\n",
       "    The factorial of n, or 1 if n is 0.\n",
       "    Raises ValueError if n is negative.\n",
       "  \"\"\"\n",
       "  if n < 0:\n",
       "    raise ValueError(\"Factorial is not defined for negative numbers.\")\n",
       "  elif n == 0:\n",
       "    return 1\n",
       "  else:\n",
       "    result = 1\n",
       "    for i in range(1, n + 1):\n",
       "      result *= i\n",
       "    return result\n",
       "```\n"
      ],
      "text/plain": [
       "<IPython.core.display.Markdown object>"
      ]
     },
     "execution_count": 29,
     "metadata": {},
     "output_type": "execute_result"
    }
   ],
   "source": [
    "# The Gemini models love to talk, so it helps to specify they stick to the code if that\n",
    "# is all that you want.\n",
    "code_prompt = \"\"\"\n",
    "Write a Python function to calculate the factorial of a number. No explanation, provide only the code.\n",
    "\"\"\"\n",
    "\n",
    "response = client.models.generate_content(\n",
    "    model='gemini-2.0-flash',\n",
    "    config=types.GenerateContentConfig(\n",
    "        temperature=1,\n",
    "        top_p=1,\n",
    "        max_output_tokens=1024,\n",
    "    ),\n",
    "    contents=code_prompt)\n",
    "\n",
    "Markdown(response.text)"
   ]
  },
  {
   "cell_type": "markdown",
   "id": "2caa67b4",
   "metadata": {
    "id": "wlBMWSFhgVRQ",
    "papermill": {
     "duration": 0.0146,
     "end_time": "2025-03-31T15:53:00.963315",
     "exception": false,
     "start_time": "2025-03-31T15:53:00.948715",
     "status": "completed"
    },
    "tags": []
   },
   "source": [
    "### Code execution\n",
    "\n",
    "The Gemini API can automatically run generated code too, and will return the output.\n",
    "\n",
    "<table align=left>\n",
    "  <td>\n",
    "    <a target=\"_blank\" href=\"https://aistudio.google.com/prompts/11veFr_VYEwBWcLkhNLr-maCG0G8sS_7Z\"><img src=\"https://ai.google.dev/site-assets/images/marketing/home/icon-ais.png\" style=\"height: 24px\" height=24/> Open in AI Studio</a>\n",
    "  </td>\n",
    "</table>"
   ]
  },
  {
   "cell_type": "code",
   "execution_count": 30,
   "id": "c6835674",
   "metadata": {
    "execution": {
     "iopub.execute_input": "2025-03-31T15:53:00.997335Z",
     "iopub.status.busy": "2025-03-31T15:53:00.996958Z",
     "iopub.status.idle": "2025-03-31T15:53:02.973949Z",
     "shell.execute_reply": "2025-03-31T15:53:02.972703Z"
    },
    "id": "jT3OfWYfhjRL",
    "papermill": {
     "duration": 1.997329,
     "end_time": "2025-03-31T15:53:02.976547",
     "exception": false,
     "start_time": "2025-03-31T15:53:00.979218",
     "status": "completed"
    },
    "tags": []
   },
   "outputs": [
    {
     "name": "stdout",
     "output_type": "stream",
     "text": [
      "{'text': \"Okay, I can do that. First, I'll generate the first 14 odd prime \"\n",
      "         'numbers. A prime number is a number greater than 1 that has no '\n",
      "         'positive divisors other than 1 and itself. Odd prime numbers are '\n",
      "         'simply prime numbers that are not 2 (since 2 is the only even prime '\n",
      "         'number).\\n'\n",
      "         '\\n'\n",
      "         \"Here's how I'll find the first 14 odd prime numbers and their sum \"\n",
      "         'using python:\\n'\n",
      "         '\\n'}\n",
      "-----\n",
      "{'executable_code': {'code': 'def is_prime(n):\\n'\n",
      "                             '    if n <= 1:\\n'\n",
      "                             '        return False\\n'\n",
      "                             '    for i in range(2, int(n**0.5) + 1):\\n'\n",
      "                             '        if n % i == 0:\\n'\n",
      "                             '            return False\\n'\n",
      "                             '    return True\\n'\n",
      "                             '\\n'\n",
      "                             'primes = []\\n'\n",
      "                             'num = 3\\n'\n",
      "                             'while len(primes) < 14:\\n'\n",
      "                             '    if is_prime(num):\\n'\n",
      "                             '        primes.append(num)\\n'\n",
      "                             '    num += 2\\n'\n",
      "                             '\\n'\n",
      "                             \"print(f'{primes=}')\\n\"\n",
      "                             '\\n'\n",
      "                             'sum_of_primes = sum(primes)\\n'\n",
      "                             \"print(f'{sum_of_primes=}')\\n\",\n",
      "                     'language': 'PYTHON'}}\n",
      "-----\n",
      "{'code_execution_result': {'outcome': 'OUTCOME_OK',\n",
      "                           'output': 'primes=[3, 5, 7, 11, 13, 17, 19, 23, 29, '\n",
      "                                     '31, 37, 41, 43, 47]\\n'\n",
      "                                     'sum_of_primes=326\\n'}}\n",
      "-----\n",
      "{'text': 'The first 14 odd prime numbers are 3, 5, 7, 11, 13, 17, 19, 23, 29, '\n",
      "         '31, 37, 41, 43, and 47. Their sum is 326.\\n'}\n",
      "-----\n"
     ]
    }
   ],
   "source": [
    "from pprint import pprint\n",
    "\n",
    "config = types.GenerateContentConfig(\n",
    "    tools=[types.Tool(code_execution=types.ToolCodeExecution())],\n",
    ")\n",
    "\n",
    "code_exec_prompt = \"\"\"\n",
    "Generate the first 14 odd prime numbers, then calculate their sum.\n",
    "\"\"\"\n",
    "\n",
    "response = client.models.generate_content(\n",
    "    model='gemini-2.0-flash',\n",
    "    config=config,\n",
    "    contents=code_exec_prompt)\n",
    "\n",
    "for part in response.candidates[0].content.parts:\n",
    "  pprint(part.to_json_dict())\n",
    "  print(\"-----\")"
   ]
  },
  {
   "cell_type": "markdown",
   "id": "598bd88e",
   "metadata": {
    "id": "ZspT1GSkjG6d",
    "papermill": {
     "duration": 0.019664,
     "end_time": "2025-03-31T15:53:03.014563",
     "exception": false,
     "start_time": "2025-03-31T15:53:02.994899",
     "status": "completed"
    },
    "tags": []
   },
   "source": [
    "This response contains multiple parts, including an opening and closing text part that represent regular responses, an `executable_code` part that represents generated code and a `code_execution_result` part that represents the results from running the generated code.\n",
    "\n",
    "You can explore them individually."
   ]
  },
  {
   "cell_type": "code",
   "execution_count": 31,
   "id": "3a153150",
   "metadata": {
    "execution": {
     "iopub.execute_input": "2025-03-31T15:53:03.048884Z",
     "iopub.status.busy": "2025-03-31T15:53:03.048344Z",
     "iopub.status.idle": "2025-03-31T15:53:03.066018Z",
     "shell.execute_reply": "2025-03-31T15:53:03.064927Z"
    },
    "papermill": {
     "duration": 0.037451,
     "end_time": "2025-03-31T15:53:03.068250",
     "exception": false,
     "start_time": "2025-03-31T15:53:03.030799",
     "status": "completed"
    },
    "tags": []
   },
   "outputs": [
    {
     "data": {
      "text/markdown": [
       "Okay, I can do that. First, I'll generate the first 14 odd prime numbers. A prime number is a number greater than 1 that has no positive divisors other than 1 and itself. Odd prime numbers are simply prime numbers that are not 2 (since 2 is the only even prime number).\n",
       "\n",
       "Here's how I'll find the first 14 odd prime numbers and their sum using python:\n",
       "\n"
      ],
      "text/plain": [
       "<IPython.core.display.Markdown object>"
      ]
     },
     "metadata": {},
     "output_type": "display_data"
    },
    {
     "data": {
      "text/markdown": [
       "```python\n",
       "def is_prime(n):\n",
       "    if n <= 1:\n",
       "        return False\n",
       "    for i in range(2, int(n**0.5) + 1):\n",
       "        if n % i == 0:\n",
       "            return False\n",
       "    return True\n",
       "\n",
       "primes = []\n",
       "num = 3\n",
       "while len(primes) < 14:\n",
       "    if is_prime(num):\n",
       "        primes.append(num)\n",
       "    num += 2\n",
       "\n",
       "print(f'{primes=}')\n",
       "\n",
       "sum_of_primes = sum(primes)\n",
       "print(f'{sum_of_primes=}')\n",
       "\n",
       "```"
      ],
      "text/plain": [
       "<IPython.core.display.Markdown object>"
      ]
     },
     "metadata": {},
     "output_type": "display_data"
    },
    {
     "data": {
      "text/markdown": [
       "```\n",
       "primes=[3, 5, 7, 11, 13, 17, 19, 23, 29, 31, 37, 41, 43, 47]\n",
       "sum_of_primes=326\n",
       "\n",
       "```"
      ],
      "text/plain": [
       "<IPython.core.display.Markdown object>"
      ]
     },
     "metadata": {},
     "output_type": "display_data"
    },
    {
     "data": {
      "text/markdown": [
       "The first 14 odd prime numbers are 3, 5, 7, 11, 13, 17, 19, 23, 29, 31, 37, 41, 43, and 47. Their sum is 326.\n"
      ],
      "text/plain": [
       "<IPython.core.display.Markdown object>"
      ]
     },
     "metadata": {},
     "output_type": "display_data"
    }
   ],
   "source": [
    "for part in response.candidates[0].content.parts:\n",
    "    if part.text:\n",
    "        display(Markdown(part.text))\n",
    "    elif part.executable_code:\n",
    "        display(Markdown(f'```python\\n{part.executable_code.code}\\n```'))\n",
    "    elif part.code_execution_result:\n",
    "        if part.code_execution_result.outcome != 'OUTCOME_OK':\n",
    "            display(Markdown(f'## Status {part.code_execution_result.outcome}'))\n",
    "\n",
    "        display(Markdown(f'```\\n{part.code_execution_result.output}\\n```'))"
   ]
  },
  {
   "cell_type": "markdown",
   "id": "cbbfbac8",
   "metadata": {
    "id": "1gUX8QzCj4d5",
    "papermill": {
     "duration": 0.01548,
     "end_time": "2025-03-31T15:53:03.100528",
     "exception": false,
     "start_time": "2025-03-31T15:53:03.085048",
     "status": "completed"
    },
    "tags": []
   },
   "source": [
    "### Explaining code\n",
    "\n",
    "The Gemini family of models can explain code to you too. In this example, you pass a [bash script](https://github.com/magicmonty/bash-git-prompt) and ask some questions.\n",
    "\n",
    "<table align=left>\n",
    "  <td>\n",
    "    <a target=\"_blank\" href=\"https://aistudio.google.com/prompts/1N7LGzWzCYieyOf_7bAG4plrmkpDNmUyb\"><img src=\"https://ai.google.dev/site-assets/images/marketing/home/icon-ais.png\" style=\"height: 24px\" height=24/> Open in AI Studio</a>\n",
    "  </td>\n",
    "</table>"
   ]
  },
  {
   "cell_type": "code",
   "execution_count": 32,
   "id": "5b54d133",
   "metadata": {
    "execution": {
     "iopub.execute_input": "2025-03-31T15:53:03.134588Z",
     "iopub.status.busy": "2025-03-31T15:53:03.134200Z",
     "iopub.status.idle": "2025-03-31T15:53:06.043280Z",
     "shell.execute_reply": "2025-03-31T15:53:06.041999Z"
    },
    "id": "7_jPMMoxkIEb",
    "papermill": {
     "duration": 2.928867,
     "end_time": "2025-03-31T15:53:06.045934",
     "exception": false,
     "start_time": "2025-03-31T15:53:03.117067",
     "status": "completed"
    },
    "tags": []
   },
   "outputs": [
    {
     "data": {
      "text/markdown": [
       "This file is a Bash script designed to enhance your command-line prompt with information about the current Git repository.  Essentially, it makes your prompt \"smarter\" by displaying the branch you're on, the status of your working directory (e.g., changes to be committed, uncommitted changes, untracked files), and even information about the remote repository.\n",
       "\n",
       "Here's a breakdown of what it does and why you'd use it:\n",
       "\n",
       "*   **Git Information:**  The core purpose is to extract and display relevant Git repository details directly in your command prompt.  This allows you to quickly see the state of your repository without having to run `git status` all the time.\n",
       "\n",
       "*   **Customization:** It is highly configurable.  You can customize the colors, symbols, and the specific information displayed to match your preferences.  It supports themes and allows you to create custom themes.\n",
       "\n",
       "*   **Asynchronous Operations:** The script tries to fetch the remote status of your git repository in an asynchronous manner, so that it does not block your prompt.\n",
       "\n",
       "*   **Virtual Environment Support**: It can display information about active virtual environments using tools such as virtualenv, conda, and node virtualenv.\n",
       "\n",
       "**Why use it?**\n",
       "\n",
       "*   **Improved Workflow:** Quickly seeing the Git status in your prompt improves your development workflow and reduces errors.\n",
       "*   **At-a-glance Information:**  You can immediately see if you have uncommitted changes, need to pull, or are on the wrong branch.\n",
       "*   **Customization:** Allows you to personalize your prompt to your liking.\n",
       "*   **Time-saving:** Reduces the need to constantly run `git status`.\n",
       "\n",
       "To use it, you would typically source this script in your `.bashrc` or `.zshrc` file (or equivalent for your shell). This runs the script at the start of each shell session and configures your prompt.\n",
       "\n",
       "In summary, it's a handy tool for developers who work with Git repositories and want a more informative and visually appealing command-line experience.\n"
      ],
      "text/plain": [
       "<IPython.core.display.Markdown object>"
      ]
     },
     "execution_count": 32,
     "metadata": {},
     "output_type": "execute_result"
    }
   ],
   "source": [
    "file_contents = !curl https://raw.githubusercontent.com/magicmonty/bash-git-prompt/refs/heads/master/gitprompt.sh\n",
    "\n",
    "explain_prompt = f\"\"\"\n",
    "Please explain what this file does at a very high level. What is it, and why would I use it?\n",
    "\n",
    "```\n",
    "{file_contents}\n",
    "```\n",
    "\"\"\"\n",
    "\n",
    "response = client.models.generate_content(\n",
    "    model='gemini-2.0-flash',\n",
    "    contents=explain_prompt)\n",
    "\n",
    "Markdown(response.text)"
   ]
  },
  {
   "cell_type": "markdown",
   "id": "69908727",
   "metadata": {
    "id": "2a8266d97ce5",
    "papermill": {
     "duration": 0.016214,
     "end_time": "2025-03-31T15:53:06.078116",
     "exception": false,
     "start_time": "2025-03-31T15:53:06.061902",
     "status": "completed"
    },
    "tags": []
   },
   "source": [
    "## Learn more\n",
    "\n",
    "To learn more about prompting in depth:\n",
    "\n",
    "* Check out the whitepaper issued with today's content,\n",
    "* Try out the apps listed at the top of this notebook ([TextFX](https://textfx.withgoogle.com/), [SQL Talk](https://sql-talk-r5gdynozbq-uc.a.run.app/) and [NotebookLM](https://notebooklm.google/)),\n",
    "* Read the [Introduction to Prompting](https://ai.google.dev/gemini-api/docs/prompting-intro) from the Gemini API docs,\n",
    "* Explore the Gemini API's [prompt gallery](https://ai.google.dev/gemini-api/prompts) and try them out in AI Studio,\n",
    "* Check out the Gemini API cookbook for [inspirational examples](https://github.com/google-gemini/cookbook/blob/main/examples/) and [educational quickstarts](https://github.com/google-gemini/cookbook/blob/main/quickstarts/).\n",
    "\n",
    "Be sure to check out the codelabs on day 3 too, where you will explore some more advanced prompting with code execution.\n",
    "\n",
    "And please share anything exciting you have tried in the Discord!\n",
    "\n",
    "*- [Mark McD](https://linktr.ee/markmcd)*"
   ]
  }
 ],
 "metadata": {
  "colab": {
   "name": "day-1-prompting.ipynb",
   "toc_visible": true
  },
  "kaggle": {
   "accelerator": "none",
   "dataSources": [],
   "dockerImageVersionId": 30786,
   "isGpuEnabled": false,
   "isInternetEnabled": true,
   "language": "python",
   "sourceType": "notebook"
  },
  "kernelspec": {
   "display_name": "Python 3",
   "language": "python",
   "name": "python3"
  },
  "language_info": {
   "codemirror_mode": {
    "name": "ipython",
    "version": 3
   },
   "file_extension": ".py",
   "mimetype": "text/x-python",
   "name": "python",
   "nbconvert_exporter": "python",
   "pygments_lexer": "ipython3",
   "version": "3.10.14"
  },
  "papermill": {
   "default_parameters": {},
   "duration": 83.433842,
   "end_time": "2025-03-31T15:53:06.814723",
   "environment_variables": {},
   "exception": null,
   "input_path": "__notebook__.ipynb",
   "output_path": "__notebook__.ipynb",
   "parameters": {},
   "start_time": "2025-03-31T15:51:43.380881",
   "version": "2.6.0"
  }
 },
 "nbformat": 4,
 "nbformat_minor": 5
}
